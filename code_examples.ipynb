{
 "cells": [
  {
   "cell_type": "markdown",
   "metadata": {},
   "source": [
    "# Programming lecture"
   ]
  },
  {
   "cell_type": "markdown",
   "metadata": {},
   "source": [
    "Your first script, \"Hello, World!\""
   ]
  },
  {
   "cell_type": "code",
   "execution_count": 3,
   "metadata": {},
   "outputs": [
    {
     "name": "stdout",
     "output_type": "stream",
     "text": [
      "Hello world\n"
     ]
    }
   ],
   "source": [
    "print(\"Hello world\")"
   ]
  },
  {
   "cell_type": "markdown",
   "metadata": {},
   "source": [
    "__Variable assignment and Data types__"
   ]
  },
  {
   "cell_type": "code",
   "execution_count": 4,
   "metadata": {},
   "outputs": [
    {
     "name": "stdout",
     "output_type": "stream",
     "text": [
      "98.6\n"
     ]
    }
   ],
   "source": [
    "temp = 98.6\n",
    "print(temp)"
   ]
  },
  {
   "cell_type": "markdown",
   "metadata": {},
   "source": [
    "__Comments__"
   ]
  },
  {
   "cell_type": "code",
   "execution_count": 69,
   "metadata": {},
   "outputs": [],
   "source": [
    "# This is a commet\n",
    "temp = 0  # this is an inline comment"
   ]
  },
  {
   "cell_type": "markdown",
   "metadata": {},
   "source": [
    "__Integers and floats__"
   ]
  },
  {
   "cell_type": "code",
   "execution_count": 9,
   "metadata": {},
   "outputs": [
    {
     "name": "stdout",
     "output_type": "stream",
     "text": [
      "49.6\n"
     ]
    }
   ],
   "source": [
    "# Define integers\n",
    "a = 8\n",
    "# Define float\n",
    "b = 6.2\n",
    "# Add two numbers\n",
    "print(a * b)"
   ]
  },
  {
   "cell_type": "markdown",
   "metadata": {},
   "source": [
    "__Strings__"
   ]
  },
  {
   "cell_type": "code",
   "execution_count": 68,
   "metadata": {},
   "outputs": [
    {
     "name": "stdout",
     "output_type": "stream",
     "text": [
      "This_is_a_string_Test\n",
      "['', '', 'This_is_a_string_Test', '', '']\n",
      "  This is a string Test  \n"
     ]
    }
   ],
   "source": [
    "# Define a string\n",
    "myStr = \"  This_is_a_string_Test  \"\n",
    "# Strip characters\n",
    "print(myStr.strip())  # removes whitespace in beginning and end\n",
    "\n",
    "# Split string\n",
    "print(myStr.split(' '))  # split string to list\n",
    "\n",
    "# Replace characters\n",
    "print(myStr.replace('_', ' ')) # Replace character in string"
   ]
  },
  {
   "cell_type": "markdown",
   "metadata": {},
   "source": [
    "__Indexing__"
   ]
  },
  {
   "cell_type": "code",
   "execution_count": 67,
   "metadata": {},
   "outputs": [
    {
     "name": "stdout",
     "output_type": "stream",
     "text": [
      "This\n"
     ]
    }
   ],
   "source": [
    "print(myStr[0:4])"
   ]
  },
  {
   "cell_type": "markdown",
   "metadata": {},
   "source": [
    "__Lists__"
   ]
  },
  {
   "cell_type": "code",
   "execution_count": 25,
   "metadata": {},
   "outputs": [
    {
     "name": "stdout",
     "output_type": "stream",
     "text": [
      "['Strings', 8, 'This is a string Test']\n",
      "8\n",
      "['Strings', 8, 'This is a string Test', 'rpoB']\n",
      "['Strings', 'This is a string Test', 'rpoB']\n"
     ]
    }
   ],
   "source": [
    "# Define a list\n",
    "genes = ['Strings', 8, myStr]\n",
    "print(genes)\n",
    "# Indexing\n",
    "print(genes[1])\n",
    "\n",
    "# Add element\n",
    "genes.append('rpoB')\n",
    "print(genes)\n",
    "# Remove element\n",
    "genes.pop(1)\n",
    "print(genes)"
   ]
  },
  {
   "cell_type": "markdown",
   "metadata": {},
   "source": [
    "__Dictionaries__"
   ]
  },
  {
   "cell_type": "code",
   "execution_count": 66,
   "metadata": {},
   "outputs": [
    {
     "name": "stdout",
     "output_type": "stream",
     "text": [
      "{'emil': 31, 'johan': 29}\n",
      "29\n",
      "{'maja': 25, 'emil': 31, 'johan': 29}\n",
      "{'emil': 31, 'johan': 29}\n"
     ]
    }
   ],
   "source": [
    "# Define a dictionary\n",
    "ages = {'emil':31, 'johan':29}\n",
    "print(ages)\n",
    "\n",
    "# Access element\n",
    "print(ages['johan'])\n",
    "\n",
    "# Add element\n",
    "ages['maja'] = 25\n",
    "print(ages)\n",
    "\n",
    "# Remove element\n",
    "del(ages['maja'])\n",
    "print(ages)\n",
    "\n",
    "# Get keys"
   ]
  },
  {
   "cell_type": "markdown",
   "metadata": {},
   "source": [
    "__If-elif-else__"
   ]
  },
  {
   "cell_type": "code",
   "execution_count": 35,
   "metadata": {},
   "outputs": [
    {
     "name": "stdout",
     "output_type": "stream",
     "text": [
      "clock is 10\n"
     ]
    }
   ],
   "source": [
    "clock = 10\n",
    "if clock < 10:\n",
    "    print('Clock is not 10')\n",
    "elif clock == 10:\n",
    "    print('clock is 10')\n",
    "else:\n",
    "    print('something else')"
   ]
  },
  {
   "cell_type": "markdown",
   "metadata": {},
   "source": [
    "__While-loops__"
   ]
  },
  {
   "cell_type": "code",
   "execution_count": 36,
   "metadata": {},
   "outputs": [
    {
     "name": "stdout",
     "output_type": "stream",
     "text": [
      "0\n",
      "1\n",
      "2\n",
      "3\n",
      "4\n",
      "5\n",
      "6\n",
      "7\n",
      "8\n",
      "9\n"
     ]
    }
   ],
   "source": [
    "# Define a while-loop\n",
    "i = 0\n",
    "while i < 10:\n",
    "    print(i)\n",
    "    i = i + 1"
   ]
  },
  {
   "cell_type": "markdown",
   "metadata": {},
   "source": [
    "__For-loops__"
   ]
  },
  {
   "cell_type": "code",
   "execution_count": 51,
   "metadata": {},
   "outputs": [
    {
     "name": "stdout",
     "output_type": "stream",
     "text": [
      "rpoB\n",
      "rpoC\n",
      "rpoD\n"
     ]
    }
   ],
   "source": [
    "# Define a for-loop using list\n",
    "for element in ['rpoB', 'rpoC', 'rpoD']:\n",
    "    print(element)"
   ]
  },
  {
   "cell_type": "code",
   "execution_count": 52,
   "metadata": {},
   "outputs": [
    {
     "name": "stdout",
     "output_type": "stream",
     "text": [
      "0\n",
      "1\n",
      "2\n",
      "3\n",
      "4\n",
      "5\n",
      "6\n",
      "7\n",
      "8\n",
      "9\n"
     ]
    }
   ],
   "source": [
    "# Define a for-loop using range\n",
    "# We could also use the function range\n",
    "# to set the number of times to run a loop\n",
    "for i in range(10):\n",
    "    print(i)"
   ]
  },
  {
   "cell_type": "markdown",
   "metadata": {},
   "source": [
    "__Functions__"
   ]
  },
  {
   "cell_type": "code",
   "execution_count": 55,
   "metadata": {},
   "outputs": [
    {
     "name": "stdout",
     "output_type": "stream",
     "text": [
      "64\n"
     ]
    }
   ],
   "source": [
    "# Define a function that returns the square of a number\n",
    "def square(a):\n",
    "    result = a*a\n",
    "    return result\n",
    "\n",
    "print(square(8))"
   ]
  },
  {
   "cell_type": "markdown",
   "metadata": {},
   "source": [
    "__Read and write__"
   ]
  },
  {
   "cell_type": "code",
   "execution_count": 57,
   "metadata": {},
   "outputs": [
    {
     "name": "stdout",
     "output_type": "stream",
     "text": [
      "#id\tgene\torganism\tlength\n",
      "\n",
      "1\trpoB\tE. coli\t1347\n",
      "\n",
      "2\tgroEL\tB. quintana\t547\n",
      "\n",
      "4\themE\tM. morganii\t355\n",
      "\n",
      "5\tthiH\tS. sonnei\t377\n",
      "\n",
      "6\trecA\tS. enterica\t353\n",
      "\n",
      "8\trpoB\tY. pestis\t332\n",
      "\n",
      "10\tcyaA\tC. aceticum\t131\n",
      "\n"
     ]
    }
   ],
   "source": [
    "# Read genes.txt\n",
    "f = open('genes.txt', 'r')\n",
    "for line in f.readlines():\n",
    "    print(line)\n",
    "f.close()"
   ]
  },
  {
   "cell_type": "code",
   "execution_count": 59,
   "metadata": {},
   "outputs": [],
   "source": [
    "# Write the results of squares to file\n",
    "f = open('square_results.txt', 'w')\n",
    "for i in range(10):\n",
    "    result = square(i)\n",
    "    f.write(str(result))\n",
    "f.close()"
   ]
  },
  {
   "cell_type": "markdown",
   "metadata": {},
   "source": [
    "__Import packages__"
   ]
  },
  {
   "cell_type": "code",
   "execution_count": 40,
   "metadata": {},
   "outputs": [],
   "source": [
    "# Import Biopython, re and sys\n",
    "from Bio import SeqIO\n",
    "import sys\n",
    "import re"
   ]
  },
  {
   "cell_type": "markdown",
   "metadata": {},
   "source": [
    "__Regular expressions__"
   ]
  },
  {
   "cell_type": "code",
   "execution_count": 64,
   "metadata": {},
   "outputs": [
    {
     "name": "stdout",
     "output_type": "stream",
     "text": [
      "rpoB\n",
      "<_sre.SRE_Match object; span=(2, 6), match='rpoB'>\n",
      "<_sre.SRE_Match object; span=(0, 19), match='1 rpoB E. coli 1342'>\n",
      "rpoB\n",
      "1342\n",
      "1 rpoB E. coli Unknown\n"
     ]
    }
   ],
   "source": [
    "line = \"1 rpoB E. coli 1342\"\n",
    "# Find rpoB using regex\n",
    "regex = 'rpoB'\n",
    "match = re.search(regex, line)\n",
    "print(match.group())\n",
    "# Find rpoB, rpoC, rpoD using regex\n",
    "regex = 'rpo[B|C|D]'\n",
    "match = re.search(regex, line)\n",
    "print(match)\n",
    "# Find line starting with 1 and ending with 342\n",
    "regex = '^1.*342$'\n",
    "match = re.search(regex, line)\n",
    "print(match)\n",
    "\n",
    "# Use regex to find groups\n",
    "regex = \"1 (rpoB) E. coli (1342)\"\n",
    "match = re.search(regex, line)\n",
    "gene_name = match.group(1)  # gene_name is \"rpoB\"\n",
    "gene_length = match.group(2)\n",
    "print(gene_name)\n",
    "print(gene_length)\n",
    "\n",
    "# Use regex to replace 1342 with unknown length\n",
    "newLine = re.sub('1342', 'Unknown', line)\n",
    "print(newLine)"
   ]
  },
  {
   "cell_type": "markdown",
   "metadata": {},
   "source": [
    "__Command line arguments__"
   ]
  },
  {
   "cell_type": "markdown",
   "metadata": {},
   "source": [
    "The code for this part is in the script called command_line_args.py"
   ]
  },
  {
   "cell_type": "code",
   "execution_count": 44,
   "metadata": {},
   "outputs": [
    {
     "name": "stdout",
     "output_type": "stream",
     "text": [
      "#!/usr/bin/env python3\n",
      "import sys\n",
      "\n",
      "print('All arguments')\n",
      "print(sys.argv)\n",
      "\n",
      "arg1 = sys.argv[1]\n",
      "arg2 = sys.argv[2]\n",
      "\n",
      "print('Argument 1: ' + arg1)\n",
      "print('Argument 2: ' + arg2)\n"
     ]
    }
   ],
   "source": [
    "%%bash\n",
    "less command_line_args.py"
   ]
  },
  {
   "cell_type": "code",
   "execution_count": 45,
   "metadata": {},
   "outputs": [
    {
     "name": "stdout",
     "output_type": "stream",
     "text": [
      "All arguments\n",
      "['command_line_args.py', 'path_to_file.txt', 'output.txt']\n",
      "Argument 1: path_to_file.txt\n",
      "Argument 2: output.txt\n"
     ]
    }
   ],
   "source": [
    "%%bash\n",
    "python3 command_line_args.py path_to_file.txt output.txt"
   ]
  },
  {
   "cell_type": "markdown",
   "metadata": {},
   "source": [
    "__Debugging__"
   ]
  },
  {
   "cell_type": "code",
   "execution_count": 46,
   "metadata": {},
   "outputs": [
    {
     "ename": "NameError",
     "evalue": "name 'opne' is not defined",
     "output_type": "error",
     "traceback": [
      "\u001b[0;31m---------------------------------------------------------------------------\u001b[0m",
      "\u001b[0;31mNameError\u001b[0m                                 Traceback (most recent call last)",
      "\u001b[0;32m<ipython-input-46-96b3e47e5627>\u001b[0m in \u001b[0;36m<module>\u001b[0;34m()\u001b[0m\n\u001b[1;32m      1\u001b[0m \u001b[0;31m# Syntax errors\u001b[0m\u001b[0;34m\u001b[0m\u001b[0;34m\u001b[0m\u001b[0m\n\u001b[0;32m----> 2\u001b[0;31m \u001b[0mgeneNames\u001b[0m \u001b[0;34m=\u001b[0m \u001b[0mopne\u001b[0m\u001b[0;34m(\u001b[0m\u001b[0;34m'genes.txt'\u001b[0m\u001b[0;34m,\u001b[0m \u001b[0;34m'r'\u001b[0m\u001b[0;34m)\u001b[0m\u001b[0;34m\u001b[0m\u001b[0m\n\u001b[0m",
      "\u001b[0;31mNameError\u001b[0m: name 'opne' is not defined"
     ]
    }
   ],
   "source": [
    "# Syntax errors\n",
    "geneNames = opne('genes.txt', 'r')"
   ]
  },
  {
   "cell_type": "code",
   "execution_count": 47,
   "metadata": {},
   "outputs": [
    {
     "ename": "FileNotFoundError",
     "evalue": "[Errno 2] No such file or directory: 'gene_names.txt'",
     "output_type": "error",
     "traceback": [
      "\u001b[0;31m---------------------------------------------------------------------------\u001b[0m",
      "\u001b[0;31mFileNotFoundError\u001b[0m                         Traceback (most recent call last)",
      "\u001b[0;32m<ipython-input-47-9a32864da743>\u001b[0m in \u001b[0;36m<module>\u001b[0;34m()\u001b[0m\n\u001b[1;32m      1\u001b[0m \u001b[0;31m# Runtime errors\u001b[0m\u001b[0;34m\u001b[0m\u001b[0;34m\u001b[0m\u001b[0m\n\u001b[0;32m----> 2\u001b[0;31m \u001b[0mgeneNames\u001b[0m \u001b[0;34m=\u001b[0m \u001b[0mopen\u001b[0m\u001b[0;34m(\u001b[0m\u001b[0;34m'gene_names.txt'\u001b[0m\u001b[0;34m,\u001b[0m \u001b[0;34m'r'\u001b[0m\u001b[0;34m)\u001b[0m\u001b[0;34m\u001b[0m\u001b[0m\n\u001b[0m\u001b[1;32m      3\u001b[0m \u001b[0;32mfor\u001b[0m \u001b[0mline\u001b[0m \u001b[0;32min\u001b[0m \u001b[0mgeneNames\u001b[0m\u001b[0;34m.\u001b[0m\u001b[0mreadlines\u001b[0m\u001b[0;34m(\u001b[0m\u001b[0;34m)\u001b[0m\u001b[0;34m:\u001b[0m\u001b[0;34m\u001b[0m\u001b[0m\n\u001b[1;32m      4\u001b[0m     \u001b[0mprint\u001b[0m\u001b[0;34m(\u001b[0m\u001b[0mline\u001b[0m\u001b[0;34m)\u001b[0m\u001b[0;34m\u001b[0m\u001b[0m\n",
      "\u001b[0;31mFileNotFoundError\u001b[0m: [Errno 2] No such file or directory: 'gene_names.txt'"
     ]
    }
   ],
   "source": [
    "# Runtime errors\n",
    "geneNames = open('gene_names.txt', 'r')\n",
    "for line in geneNames.readlines():\n",
    "    print(line)"
   ]
  },
  {
   "cell_type": "code",
   "execution_count": 48,
   "metadata": {},
   "outputs": [
    {
     "name": "stdout",
     "output_type": "stream",
     "text": [
      "Number 1:2\n",
      "Number 2:3\n",
      "Average: 3.5\n"
     ]
    }
   ],
   "source": [
    "# Logical errors\n",
    "x = float(input(\"Number 1:\"))\n",
    "y = float(input(\"Number 2:\"))\n",
    "\n",
    "z = x + y / 2\n",
    "print(\"Average: \" + str(z))"
   ]
  },
  {
   "cell_type": "code",
   "execution_count": 49,
   "metadata": {},
   "outputs": [
    {
     "ename": "TypeError",
     "evalue": "unsupported operand type(s) for /: 'int' and 'str'",
     "output_type": "error",
     "traceback": [
      "\u001b[0;31m---------------------------------------------------------------------------\u001b[0m",
      "\u001b[0;31mTypeError\u001b[0m                                 Traceback (most recent call last)",
      "\u001b[0;32m<ipython-input-49-a48298cda5ff>\u001b[0m in \u001b[0;36m<module>\u001b[0;34m()\u001b[0m\n\u001b[1;32m     13\u001b[0m \u001b[0;34m\u001b[0m\u001b[0m\n\u001b[1;32m     14\u001b[0m \u001b[0mpairs\u001b[0m \u001b[0;34m=\u001b[0m \u001b[0;34m[\u001b[0m\u001b[0;34m(\u001b[0m\u001b[0;36m5\u001b[0m\u001b[0;34m,\u001b[0m\u001b[0;36m1\u001b[0m\u001b[0;34m)\u001b[0m\u001b[0;34m,\u001b[0m \u001b[0;34m(\u001b[0m\u001b[0;36m6\u001b[0m\u001b[0;34m,\u001b[0m\u001b[0;36m2\u001b[0m\u001b[0;34m)\u001b[0m\u001b[0;34m,\u001b[0m \u001b[0;34m(\u001b[0m\u001b[0;36m3\u001b[0m\u001b[0;34m,\u001b[0m\u001b[0;34m'a'\u001b[0m\u001b[0;34m)\u001b[0m\u001b[0;34m]\u001b[0m\u001b[0;34m\u001b[0m\u001b[0m\n\u001b[0;32m---> 15\u001b[0;31m \u001b[0mlist_division\u001b[0m\u001b[0;34m(\u001b[0m\u001b[0mpairs\u001b[0m\u001b[0;34m)\u001b[0m\u001b[0;34m\u001b[0m\u001b[0m\n\u001b[0m",
      "\u001b[0;32m<ipython-input-49-a48298cda5ff>\u001b[0m in \u001b[0;36mlist_division\u001b[0;34m(pairs)\u001b[0m\n\u001b[1;32m      7\u001b[0m     \u001b[0mpairs_result\u001b[0m \u001b[0;34m=\u001b[0m \u001b[0;34m[\u001b[0m\u001b[0;34m]\u001b[0m  \u001b[0;31m# store division results\u001b[0m\u001b[0;34m\u001b[0m\u001b[0m\n\u001b[1;32m      8\u001b[0m     \u001b[0;32mfor\u001b[0m \u001b[0mpair\u001b[0m \u001b[0;32min\u001b[0m \u001b[0mpairs\u001b[0m\u001b[0;34m:\u001b[0m\u001b[0;34m\u001b[0m\u001b[0m\n\u001b[0;32m----> 9\u001b[0;31m         \u001b[0mresult\u001b[0m \u001b[0;34m=\u001b[0m \u001b[0mdivision\u001b[0m\u001b[0;34m(\u001b[0m\u001b[0mpair\u001b[0m\u001b[0;34m[\u001b[0m\u001b[0;36m0\u001b[0m\u001b[0;34m]\u001b[0m\u001b[0;34m,\u001b[0m \u001b[0mpair\u001b[0m\u001b[0;34m[\u001b[0m\u001b[0;36m1\u001b[0m\u001b[0;34m]\u001b[0m\u001b[0;34m)\u001b[0m\u001b[0;34m\u001b[0m\u001b[0m\n\u001b[0m\u001b[1;32m     10\u001b[0m         \u001b[0mpairs_result\u001b[0m\u001b[0;34m.\u001b[0m\u001b[0mappend\u001b[0m\u001b[0;34m(\u001b[0m\u001b[0mresult\u001b[0m\u001b[0;34m)\u001b[0m\u001b[0;34m\u001b[0m\u001b[0m\n\u001b[1;32m     11\u001b[0m \u001b[0;34m\u001b[0m\u001b[0m\n",
      "\u001b[0;32m<ipython-input-49-a48298cda5ff>\u001b[0m in \u001b[0;36mdivision\u001b[0;34m(a, b)\u001b[0m\n\u001b[1;32m      1\u001b[0m \u001b[0;31m# Stack trace\u001b[0m\u001b[0;34m\u001b[0m\u001b[0;34m\u001b[0m\u001b[0m\n\u001b[1;32m      2\u001b[0m \u001b[0;32mdef\u001b[0m \u001b[0mdivision\u001b[0m\u001b[0;34m(\u001b[0m\u001b[0ma\u001b[0m\u001b[0;34m,\u001b[0m \u001b[0mb\u001b[0m\u001b[0;34m)\u001b[0m\u001b[0;34m:\u001b[0m\u001b[0;34m\u001b[0m\u001b[0m\n\u001b[0;32m----> 3\u001b[0;31m     \u001b[0mresult\u001b[0m \u001b[0;34m=\u001b[0m \u001b[0ma\u001b[0m\u001b[0;34m/\u001b[0m\u001b[0mb\u001b[0m\u001b[0;34m\u001b[0m\u001b[0m\n\u001b[0m\u001b[1;32m      4\u001b[0m     \u001b[0;32mreturn\u001b[0m \u001b[0mresult\u001b[0m\u001b[0;34m\u001b[0m\u001b[0m\n\u001b[1;32m      5\u001b[0m \u001b[0;34m\u001b[0m\u001b[0m\n",
      "\u001b[0;31mTypeError\u001b[0m: unsupported operand type(s) for /: 'int' and 'str'"
     ]
    }
   ],
   "source": [
    "# Stack trace\n",
    "def division(a, b):\n",
    "    result = a/b\n",
    "    return result\n",
    "\n",
    "def list_division(pairs):\n",
    "    pairs_result = []  # store division results\n",
    "    for pair in pairs:\n",
    "        result = division(pair[0], pair[1])\n",
    "        pairs_result.append(result)\n",
    "    \n",
    "    return pairs_result\n",
    "        \n",
    "pairs = [(5,1), (6,2), (3,'a')]\n",
    "list_division(pairs)"
   ]
  },
  {
   "cell_type": "code",
   "execution_count": null,
   "metadata": {},
   "outputs": [],
   "source": []
  }
 ],
 "metadata": {
  "kernelspec": {
   "display_name": "Python 3",
   "language": "python",
   "name": "python3"
  },
  "language_info": {
   "codemirror_mode": {
    "name": "ipython",
    "version": 3
   },
   "file_extension": ".py",
   "mimetype": "text/x-python",
   "name": "python",
   "nbconvert_exporter": "python",
   "pygments_lexer": "ipython3",
   "version": "3.5.5"
  }
 },
 "nbformat": 4,
 "nbformat_minor": 2
}
