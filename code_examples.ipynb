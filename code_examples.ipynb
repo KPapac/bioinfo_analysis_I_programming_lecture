{
 "cells": [
  {
   "cell_type": "markdown",
   "metadata": {},
   "source": [
    "# Introdruction to Programming"
   ]
  },
  {
   "cell_type": "markdown",
   "metadata": {},
   "source": [
    "This is a Jupyter notebook which we will use to learn some basic Python-programming. A notebook is a good alternative for writing scripts for data analysis since it can easily be shared with others. \n",
    "\n",
    "The cells with code can be edited and to run the code inside a cell press shift+enter. The output from the code is then printed below the cell.\n",
    "\n",
    "Some cells have a heading named __Exercise__, to get them to run, you will have to edit the code as described in the text for each of the exercises. Notice that these exercises are not mandatory, however they are very good practice for the assignments which you will find in the end of the notebook.\n",
    "\n",
    "When you have completed the assignments in the notebook, go to file -> download as -> select html. This will download a copy of your notebook in html-format. Upload this file to Studium."
   ]
  },
  {
   "cell_type": "markdown",
   "metadata": {},
   "source": [
    "Execute your first script by go to the cell below and press shift+enter"
   ]
  },
  {
   "cell_type": "code",
   "execution_count": 28,
   "metadata": {},
   "outputs": [
    {
     "name": "stdout",
     "output_type": "stream",
     "text": [
      "Hello world!\n"
     ]
    }
   ],
   "source": [
    "print(\"Hello world!\")"
   ]
  },
  {
   "cell_type": "markdown",
   "metadata": {},
   "source": [
    "### Variable\n",
    "Writing code often boils down to handling numbers and text. These numbers and text strings are stored in variables. For programming beginners, remember that programming works a little bit from right to left; the things on the right of the = sign will be stored in the variable to the left. To assign a value to a variable in python we do the following"
   ]
  },
  {
   "cell_type": "code",
   "execution_count": 1,
   "metadata": {},
   "outputs": [],
   "source": [
    "someNumber = 7\n",
    "someText = \"This is a string\""
   ]
  },
  {
   "cell_type": "markdown",
   "metadata": {},
   "source": [
    "Notice the difference between the two assignments, in the first case we don’t enclose the 7 with \"“, this tells python that this is a number and we can use this variable to do arithmetic operations. In the second case, we enclose the text with”\", this tells python that the variable is a string and we can use it to do string operations. We will talk more about this differences further down in the text. "
   ]
  },
  {
   "cell_type": "markdown",
   "metadata": {},
   "source": [
    "__Exercise__  \n",
    "Define a new variable called `first_name` and set the value to your first name"
   ]
  },
  {
   "cell_type": "code",
   "execution_count": null,
   "metadata": {},
   "outputs": [],
   "source": [
    "\n",
    "print(first_name)"
   ]
  },
  {
   "cell_type": "markdown",
   "metadata": {},
   "source": [
    "### Data types and data structures\n",
    "When we assign data to variables they might be of different types and different type of data is associated with different types of methods that can be used together with them. One example of this can be that if you have two numbers you can use a method to multiply them, however, this is not possible with two types of strings and Python will raise an error if you will do that.\n",
    "\n",
    "Sometimes we not want to store values into a variable, but data structures. Data structures are a representation of how the computer should organise data. An example of a data structure is a list, it’s just as basically as it sounds, a list of items. As data types, also data structures have different methods associated with them. If we continue with the list example, there are methods to add items to the list, to remove items from the list and even methods to sort the items in the list. Some data structures, the most common ones, are accessible directly from inside Python, others can be imported with packages.\n",
    "\n",
    "We will talk more about the different data types and data structures below and some of the more important methods for each of them below.\n",
    "\n",
    "__Integers and floats__  \n",
    "Numbers in python is represented by integers and floats. Floats is all numbers that contains a decimal point. We can do all the mathematical operations with numbers inside the computer. The most basic operations like `+`, `-`, `*`, `/` are included directly in Python while some others, like the square root, most be imported from the math packages.\n",
    "\n",
    "Artihmetic operators on numbers work pretty much like expected."
   ]
  },
  {
   "cell_type": "code",
   "execution_count": 5,
   "metadata": {},
   "outputs": [
    {
     "name": "stdout",
     "output_type": "stream",
     "text": [
      "6.3\n",
      "1.7000000000000002\n"
     ]
    }
   ],
   "source": [
    "x = 4  # integer\n",
    "y = 2.2  # float\n",
    "\n",
    "result_addition = x + y # addition: result is now 6.2, result is now a float\n",
    "print(result_addition)\n",
    "result_subtraction = x - y # subtraction: $result is now 1.8, result is now a float\n",
    "print(result_subtraction)"
   ]
  },
  {
   "cell_type": "markdown",
   "metadata": {},
   "source": [
    "A small trick that we can use if we want to add or subtract a value from a variable and store the result in the same variable is the following notation. This is most commonly done in loops when we are counting something. We will talk more about loops later."
   ]
  },
  {
   "cell_type": "code",
   "execution_count": 8,
   "metadata": {},
   "outputs": [
    {
     "name": "stdout",
     "output_type": "stream",
     "text": [
      "7\n"
     ]
    }
   ],
   "source": [
    "x += 1 # This is exactly the same as x = x+1, x is now 5 and result still integer\n",
    "print(x)"
   ]
  },
  {
   "cell_type": "markdown",
   "metadata": {},
   "source": [
    "__Exercise__\n",
    "The formula to convert from degrees celsius to degree fahrenheit is gi, \n"
   ]
  },
  {
   "cell_type": "code",
   "execution_count": null,
   "metadata": {},
   "outputs": [],
   "source": [
    "celsius = # \n",
    "fahrenheit = # Calculate fahrenhiet here\n",
    "print(fahrenheit)"
   ]
  },
  {
   "cell_type": "markdown",
   "metadata": {},
   "source": [
    "### Strings\n",
    "Strings are sequences with one or more characters, this is a data type that is very common to work with in genomic sequence analysis. Like numbers, strings have a large number of methods associated with them. I this section we will take you through the most common ones. But first, let’s assign some strings to variables."
   ]
  },
  {
   "cell_type": "code",
   "execution_count": 9,
   "metadata": {},
   "outputs": [],
   "source": [
    "aString = \"Here is some text\"\n",
    "anotherString = 'This is also some text'\n",
    "notAnInt = \"3\""
   ]
  },
  {
   "cell_type": "markdown",
   "metadata": {},
   "source": [
    "You might notice that we have used both single quotes and double quotes to define strings, like `'Here is some text'`and `\"This is also some text\"`. Python will interpret this the same way and this is useful if you want to define a string that contains quotes. In the last line of code we have set the variable `notAnInt = \"3\"`, this means that `\"3\"` is not a an integer but a string, so if you would try to add it to ann integer python will raise a `TypeError: can only concatenate str (not \"int\") to str`"
   ]
  },
  {
   "cell_type": "code",
   "execution_count": 10,
   "metadata": {},
   "outputs": [
    {
     "name": "stdout",
     "output_type": "stream",
     "text": [
      "It's a nice day today\n"
     ]
    }
   ],
   "source": [
    "print(\"It's a nice day today\")"
   ]
  },
  {
   "cell_type": "markdown",
   "metadata": {},
   "source": [
    "#### Escape characters\n",
    "If we want to inser quotes in strings we could also use something called escape characters. This is done by putting a `\\` before the quotation mark and now python will know that this quote is part of the string."
   ]
  },
  {
   "cell_type": "code",
   "execution_count": 1,
   "metadata": {},
   "outputs": [
    {
     "name": "stdout",
     "output_type": "stream",
     "text": [
      "It's a nice day today\n"
     ]
    }
   ],
   "source": [
    "print('It\\'s a nice day today')"
   ]
  },
  {
   "cell_type": "markdown",
   "metadata": {},
   "source": [
    "Other escape sequences have certain meanings, the most common are the \\n which stands for newline and \\t which inserts a tab in the string."
   ]
  },
  {
   "cell_type": "code",
   "execution_count": 3,
   "metadata": {},
   "outputs": [
    {
     "name": "stdout",
     "output_type": "stream",
     "text": [
      "Hello\n",
      "World\n",
      "Hello\tWorld\n"
     ]
    }
   ],
   "source": [
    "print('Hello\\nWorld')\n",
    "print('Hello\\tWorld')"
   ]
  },
  {
   "cell_type": "markdown",
   "metadata": {},
   "source": [
    "#### String indexing and slicing\n",
    "String indexing makes it possible to slice and select parts of a string based on the positions of the characters. Remember that Python uses zero-based counting, this means that we start to count from zero and not one. Let’s make it clearer with an example"
   ]
  },
  {
   "cell_type": "code",
   "execution_count": 5,
   "metadata": {},
   "outputs": [
    {
     "name": "stdout",
     "output_type": "stream",
     "text": [
      ">\n",
      "Gemmata\n",
      "Massiliana\n"
     ]
    }
   ],
   "source": [
    "rawSpecies = '>GemmataMassiliana'\n",
    "firstLetter = rawSpecies[0]  # firstLetter is now '>'\n",
    "family = rawSpecies[1:8]  # family is now 'Gemmata'\n",
    "species = rawSpecies[8:]  # species is now 'Massiliana'\n",
    "print(firstLetter)\n",
    "print(family)\n",
    "print(species)"
   ]
  },
  {
   "cell_type": "markdown",
   "metadata": {},
   "source": [
    "#### String methods\n",
    "Python has many useful methods for string manipulation, in this section we will cover some of the more useful ones.\n",
    "\n",
    "`split()`  \n",
    "One of them is split, which can be used to transform strings into lists. It takes the delimiter as an argument an at the delimiter, and returns the pieces as a list. We will cover lists in more detail later."
   ]
  },
  {
   "cell_type": "code",
   "execution_count": 7,
   "metadata": {},
   "outputs": [
    {
     "name": "stdout",
     "output_type": "stream",
     "text": [
      "['1', '2', '3']\n"
     ]
    }
   ],
   "source": [
    "x = '1:2:3'\n",
    "numbers = x.split(':')\n",
    "print(numbers)"
   ]
  },
  {
   "cell_type": "markdown",
   "metadata": {},
   "source": [
    "Often when you read data files, it is common to split each line on whitespace, this can be achieved by not using any argument in `split()`"
   ]
  },
  {
   "cell_type": "code",
   "execution_count": 16,
   "metadata": {},
   "outputs": [
    {
     "name": "stdout",
     "output_type": "stream",
     "text": [
      "['1', '2']\n",
      "1 2\n"
     ]
    }
   ],
   "source": [
    "y = '1 2'\n",
    "numbers = y.split()\n",
    "print(numbers)\n",
    "print(numbers[0], numbers[1])"
   ]
  },
  {
   "cell_type": "markdown",
   "metadata": {},
   "source": [
    "..or on tab (Warning! In html, tabs are removed, so this section will not work if you copy-paste to your script)"
   ]
  },
  {
   "cell_type": "code",
   "execution_count": 12,
   "metadata": {},
   "outputs": [
    {
     "name": "stdout",
     "output_type": "stream",
     "text": [
      "1 2\n"
     ]
    }
   ],
   "source": [
    "z = '1\\t2'   \n",
    "numbers = z.split('\\t')\n",
    "print(numbers[0], numbers[1])"
   ]
  },
  {
   "cell_type": "markdown",
   "metadata": {},
   "source": [
    "There are other string manipulation methods that can be very useful to know as well\n",
    "\n",
    "The `strip()` method makes it possible to remove characters from the beginning and the end of a string. The basic usage of `strip()` is to remove all blank spaces"
   ]
  },
  {
   "cell_type": "code",
   "execution_count": 18,
   "metadata": {},
   "outputs": [
    {
     "name": "stdout",
     "output_type": "stream",
     "text": [
      "   apples   \n",
      "apples\n"
     ]
    }
   ],
   "source": [
    "txt = \"   apples   \"\n",
    "fruit = txt.strip()\n",
    "print(txt)\n",
    "print(fruit)"
   ]
  },
  {
   "cell_type": "markdown",
   "metadata": {},
   "source": [
    "But you can supply an argument to the strip function telling what character it should remove. A common case is to remove the end-of-line character `\\n` when we read files."
   ]
  },
  {
   "cell_type": "code",
   "execution_count": 20,
   "metadata": {},
   "outputs": [
    {
     "name": "stdout",
     "output_type": "stream",
     "text": [
      "This is a line of text from a file\n",
      "\n"
     ]
    }
   ],
   "source": [
    "rawTxt = \"This is a line of text from a file\\n\"\n",
    "txt = rawTxt.strip('\\n')"
   ]
  },
  {
   "cell_type": "markdown",
   "metadata": {},
   "source": [
    "Another function that is good to know about when working with strings is `replace()`. This will replace one or more characters in the text to some other charachter of your choice. When you are working with bioinformatics you will soon find out that some softwares require input-files to be formatted in a specific way, and sometimes they doesn’t allow certain characters, then this function is very handy."
   ]
  },
  {
   "cell_type": "code",
   "execution_count": 22,
   "metadata": {},
   "outputs": [
    {
     "name": "stdout",
     "output_type": "stream",
     "text": [
      ">seqid_0001\n"
     ]
    }
   ],
   "source": [
    "rawFastaHeader = '>seqid-0001'\n",
    "fastaHeader = rawFastaHeader.replace('-', '_')  # replace the - in >seqid-0001 to a _\n",
    "print(fastaHeader)"
   ]
  },
  {
   "cell_type": "markdown",
   "metadata": {},
   "source": [
    "__Exercise__\n",
    "Use the methods we have discussed above to "
   ]
  },
  {
   "cell_type": "code",
   "execution_count": 23,
   "metadata": {},
   "outputs": [],
   "source": []
  },
  {
   "cell_type": "markdown",
   "metadata": {},
   "source": [
    "### Lists\n",
    "A list is simply a data structure that can store several variables or values. To define a list we use the square-brackets and then each element in the list is separated with a colon."
   ]
  },
  {
   "cell_type": "code",
   "execution_count": 26,
   "metadata": {},
   "outputs": [
    {
     "name": "stdout",
     "output_type": "stream",
     "text": [
      "[1, 3, 2]\n"
     ]
    }
   ],
   "source": [
    "x = 2\n",
    "numbers = [1, 3, x] # a list with three values 1,3 and x, where x is assigned the value 2\n",
    "print(numbers)"
   ]
  },
  {
   "cell_type": "markdown",
   "metadata": {},
   "source": [
    "If we want to access one of the element in the list we can use square brackets and the position of the element, notice that the indexing works in the same way as with strings, the counting starts from zero."
   ]
  },
  {
   "cell_type": "code",
   "execution_count": 27,
   "metadata": {},
   "outputs": [
    {
     "name": "stdout",
     "output_type": "stream",
     "text": [
      "1\n",
      "3\n"
     ]
    }
   ],
   "source": [
    "first = numbers[0] # first is now 1\n",
    "second = numbers[1] # second is now 3\n",
    "print(first)\n",
    "print(second)"
   ]
  },
  {
   "cell_type": "markdown",
   "metadata": {},
   "source": [
    "As mention previously, elements in a list can be of different types. A list can contain both strings and numbers at the same time:"
   ]
  },
  {
   "cell_type": "code",
   "execution_count": 30,
   "metadata": {},
   "outputs": [
    {
     "name": "stdout",
     "output_type": "stream",
     "text": [
      "['a string', 4]\n"
     ]
    }
   ],
   "source": [
    "values = [\"a string\", 4]\n",
    "print(values)"
   ]
  },
  {
   "cell_type": "markdown",
   "metadata": {},
   "source": [
    "#### List methods\n",
    "If you want to add a new element to an existing list, we can use the `append()` method. This is very useful if you run a loop and want to store the result from each iteration in a list. We will cover loops in a later section."
   ]
  },
  {
   "cell_type": "code",
   "execution_count": 31,
   "metadata": {},
   "outputs": [
    {
     "name": "stdout",
     "output_type": "stream",
     "text": [
      "['badA', 'groEL']\n"
     ]
    }
   ],
   "source": [
    "genes = []  # define an empty list\n",
    "gene1 = 'badA'\n",
    "gene2 = 'groEL'\n",
    "genes.append(gene1)\n",
    "genes.append(gene2);  # genes is now ['badA', 'groEL']\n",
    "print(genes)"
   ]
  },
  {
   "cell_type": "markdown",
   "metadata": {},
   "source": [
    "Sometimes you want to remove items from a list. Then we use the `pop()` method. It takes the position, the index, of the item you want to remove as argument and will remove and that item from the list."
   ]
  },
  {
   "cell_type": "code",
   "execution_count": 32,
   "metadata": {},
   "outputs": [
    {
     "name": "stdout",
     "output_type": "stream",
     "text": [
      "['badA', 'cysA']\n"
     ]
    }
   ],
   "source": [
    "genes = ['badA', 'groEL', 'cysA']\n",
    "genes.pop(1)  # genes is now ['badA', 'cysA']\n",
    "print(genes)"
   ]
  },
  {
   "cell_type": "markdown",
   "metadata": {},
   "source": [
    "#### List exercises"
   ]
  },
  {
   "cell_type": "markdown",
   "metadata": {},
   "source": [
    "### Dictionaries\n",
    "Another very useful datatype, which is built-in in Python, are dictionaries. Dictionaries represent a relationship, which provides a useful way to store and lookup tables of data in a way that are more efficient compared to using arrays. A dictionary is a data structure that is built up of keys and values, each key holds a value. For example, you could have a dictionary called age and contain people’s names and ages. Like the following"
   ]
  },
  {
   "cell_type": "code",
   "execution_count": 43,
   "metadata": {},
   "outputs": [
    {
     "name": "stdout",
     "output_type": "stream",
     "text": [
      "{'olof': 29, 'lisa': 26}\n",
      "Olof is 29\n"
     ]
    }
   ],
   "source": [
    "age = {} # Declare an empty dictionary\n",
    "\n",
    "age['lisa'] = 26\n",
    "age['olof'] = 29\n",
    "print(age)\n",
    "print(\"Olof is \" + str(age['olof']))  # str() converts an int to str which can be useful in printing since we can't add str and int."
   ]
  },
  {
   "cell_type": "markdown",
   "metadata": {},
   "source": [
    "In the example above, 'lisa' and 'olof' are the keys. A dictionary can only contain unique keys, we can't have two lisas for example in the dictionary\n",
    "\n",
    "Say for example you have the following text-file with gene names and their associated id numbers"
   ]
  },
  {
   "cell_type": "code",
   "execution_count": null,
   "metadata": {},
   "outputs": [],
   "source": [
    "thrA b0002\n",
    "thrB b0003\n",
    "thrC b0004\n",
    "yaaA b0006\n",
    "yaaJ b0007"
   ]
  },
  {
   "cell_type": "markdown",
   "metadata": {},
   "source": [
    "which you would like to read in and then use in a way where you need to know what gene has what id number.\n",
    "\n",
    "You can store the gene names in a dictionary"
   ]
  },
  {
   "cell_type": "code",
   "execution_count": 51,
   "metadata": {},
   "outputs": [
    {
     "name": "stdout",
     "output_type": "stream",
     "text": [
      "{'thrA': 'b0002', 'thrB': 'b0003', 'yaaJ': 'b0007', 'thrC': 'b0004', 'yaaA': 'b0006'}\n"
     ]
    }
   ],
   "source": [
    "gene_to_id = {}\n",
    "with open('gene_list.txt', 'r') as inFile: # This lines open the file called gene_list.txt to a variable called inFile, the 'r' means that we are only allowed to read the file.\n",
    "    for line in inFile:\n",
    "        line = line.strip('\\n')  # Remove the line break\n",
    "        gene = line.split()  # Split the line to a list with gene name and gene id\n",
    "        gene_to_id[gene[0]] = gene[1] # Store the first item in the list as key and the second item as the gene id\n",
    "print(gene_to_id)"
   ]
  },
  {
   "cell_type": "markdown",
   "metadata": {},
   "source": [
    "To print each key and value pair in the dictionary we can use"
   ]
  },
  {
   "cell_type": "code",
   "execution_count": 53,
   "metadata": {},
   "outputs": [
    {
     "name": "stdout",
     "output_type": "stream",
     "text": [
      "thrA b0002\n",
      "thrB b0003\n",
      "yaaJ b0007\n",
      "thrC b0004\n",
      "yaaA b0006\n"
     ]
    }
   ],
   "source": [
    "for gene in gene_to_id.keys():\n",
    "    print(gene, gene_to_id[gene])"
   ]
  },
  {
   "cell_type": "markdown",
   "metadata": {},
   "source": [
    "The elements of a dictionary are stored in an internal order convenient for efficient retrieval, and will therefore come out in an unpredictable (dis)order.\n",
    "There are also some methods that can be useful to know when you are working with dictionaries"
   ]
  },
  {
   "cell_type": "markdown",
   "metadata": {},
   "source": [
    "#### Dictionary methods\n",
    "\n",
    "The `items()` method will return something that is called a view object which contains a list with tuples of the key, value pairs. Both the view and tuples are similar to lists and both can be covertet to lists using the `list()` function. The view can be used in loops to loop over each key, value pair in the dictionary. An element in a tuple can be accessed in the same way as we access elements in a list. We continue to use the `gene_to_id` dictionary that we defined in the previous example."
   ]
  },
  {
   "cell_type": "code",
   "execution_count": 66,
   "metadata": {},
   "outputs": [
    {
     "name": "stdout",
     "output_type": "stream",
     "text": [
      "Tuple: ('thrA', 'b0002')\n",
      "thrA b0002\n",
      "Tuple: ('thrB', 'b0003')\n",
      "thrB b0003\n",
      "Tuple: ('yaaJ', 'b0007')\n",
      "yaaJ b0007\n",
      "Tuple: ('thrC', 'b0004')\n",
      "thrC b0004\n",
      "Tuple: ('yaaA', 'b0006')\n",
      "yaaA b0006\n"
     ]
    }
   ],
   "source": [
    "dictItems = gene_to_id.items()\n",
    "for item in dictItems:\n",
    "    print(\"Tuple: \" + str(item))\n",
    "    print(item[0], item[1])"
   ]
  },
  {
   "cell_type": "markdown",
   "metadata": {},
   "source": [
    "The `.keys()` method is similar to the `.items()` method but will only return the keys for the dictionary"
   ]
  },
  {
   "cell_type": "code",
   "execution_count": 67,
   "metadata": {},
   "outputs": [
    {
     "name": "stdout",
     "output_type": "stream",
     "text": [
      "thrA\n",
      "thrB\n",
      "yaaJ\n",
      "thrC\n",
      "yaaA\n"
     ]
    }
   ],
   "source": [
    "dictKeys = gene_to_id.keys()\n",
    "for key in dictKeys:\n",
    "    print(key)"
   ]
  },
  {
   "cell_type": "markdown",
   "metadata": {},
   "source": [
    "The `.values()` method is also similar to the methods mentioned above, but will instead, I think you can guess it, returns the values in the dictionary"
   ]
  },
  {
   "cell_type": "code",
   "execution_count": 68,
   "metadata": {},
   "outputs": [
    {
     "name": "stdout",
     "output_type": "stream",
     "text": [
      "thrA\n",
      "thrB\n",
      "yaaJ\n",
      "thrC\n",
      "yaaA\n"
     ]
    }
   ],
   "source": [
    "dictValues = gene_to_id.keys()  # values is now ['b0002', 'b0003', ....]\n",
    "for val in dictValues:\n",
    "    print(val)"
   ]
  },
  {
   "cell_type": "markdown",
   "metadata": {},
   "source": [
    "__Dictionary exercises__\n"
   ]
  },
  {
   "cell_type": "markdown",
   "metadata": {},
   "source": [
    "### Control structures\n",
    "Now we are getting in to the logic\n",
    "#### if statements\n",
    "Below are three small pieces of code that use the if-else, if not, if-elif. Notice that each block of code below a statement is indented. This will tell python were the code that goes inside a statement starts and stops. For indention of code in python we use four blank spaces.\n",
    "\n",
    "__if__"
   ]
  },
  {
   "cell_type": "code",
   "execution_count": 71,
   "metadata": {},
   "outputs": [
    {
     "name": "stdout",
     "output_type": "stream",
     "text": [
      "Old enough! Cool! So go vote!\n"
     ]
    }
   ],
   "source": [
    "voter = 0\n",
    "my_age = 21 # What happens if we change this to an age less than 18?\n",
    "if my_age < 18:  # if statement\n",
    "    print(\"So, you're not old enough to vote, eh?\")\n",
    "else:\n",
    "    print(\"Old enough! Cool! So go vote!\")\n",
    "    voter += 1  # count the voters for later"
   ]
  },
  {
   "cell_type": "markdown",
   "metadata": {},
   "source": [
    "__if not__"
   ]
  },
  {
   "cell_type": "code",
   "execution_count": 72,
   "metadata": {},
   "outputs": [
    {
     "name": "stdout",
     "output_type": "stream",
     "text": [
      "Old enough! Cool! So go vote!\n"
     ]
    }
   ],
   "source": [
    "my_age = 21\n",
    "if not my_age < 18:\n",
    "    print(\"Old enough! Cool! So go vote!\")\n",
    "    voter += 1  # count the voters for later"
   ]
  },
  {
   "cell_type": "markdown",
   "metadata": {},
   "source": [
    "__if elif__"
   ]
  },
  {
   "cell_type": "code",
   "execution_count": 74,
   "metadata": {},
   "outputs": [
    {
     "name": "stdout",
     "output_type": "stream",
     "text": [
      "Chicago is northwest of Washington, D.C.\n"
     ]
    }
   ],
   "source": [
    "city = 'Chicago'  # What happens when you change this variable to some other city?\n",
    "if city == 'New York':\n",
    "    print(\"New York is northeast of Washington, D.C.\")\n",
    "elif city == 'Chicago':\n",
    "    print(\"Chicago is northwest of Washington, D.C.\")\n",
    "elif city == 'Miami':\n",
    "    print(\"Miami is south of Washington, D.C. And much warmer!\")\n",
    "else:\n",
    "    print(\"I don't know where \" + city + \" is, sorry\")"
   ]
  },
  {
   "cell_type": "markdown",
   "metadata": {},
   "source": [
    "#### Loops\n",
    "Computers are good at repeating the same thing over and over; they don’t get bored like students and other humans. In Python, there are two basic ways to create repeats. Run these examples to make sure that you know how they work\n",
    "\n",
    "__For-loops__  \n",
    "The for loop iterates over "
   ]
  },
  {
   "cell_type": "code",
   "execution_count": 75,
   "metadata": {},
   "outputs": [
    {
     "name": "stdout",
     "output_type": "stream",
     "text": [
      "0\n",
      "1\n",
      "2\n",
      "3\n",
      "4\n",
      "5\n",
      "6\n",
      "7\n",
      "8\n",
      "9\n"
     ]
    }
   ],
   "source": [
    "for i in range(10):\n",
    "    print(i)"
   ]
  },
  {
   "cell_type": "markdown",
   "metadata": {},
   "source": [
    "__While-loops__  \n",
    "The while loop runs while a condition is `True`, below the"
   ]
  },
  {
   "cell_type": "code",
   "execution_count": 76,
   "metadata": {},
   "outputs": [
    {
     "name": "stdout",
     "output_type": "stream",
     "text": [
      "0\n",
      "1\n",
      "2\n",
      "3\n",
      "4\n",
      "5\n",
      "6\n",
      "7\n",
      "8\n",
      "9\n"
     ]
    }
   ],
   "source": [
    "counter = 0\n",
    "while counter < 10:\n",
    "    print(counter)\n",
    "    counter += 1  # update counter"
   ]
  },
  {
   "cell_type": "markdown",
   "metadata": {},
   "source": [
    "__Comments__"
   ]
  },
  {
   "cell_type": "code",
   "execution_count": 69,
   "metadata": {},
   "outputs": [],
   "source": [
    "# This is a commet\n",
    "temp = 0  # this is an inline comment"
   ]
  },
  {
   "cell_type": "markdown",
   "metadata": {},
   "source": [
    "__Integers and floats__\n",
    "Integers are floats are two different types of numbers, for which we can do all types of mathematical operations such as `+ - * /`"
   ]
  },
  {
   "cell_type": "code",
   "execution_count": 9,
   "metadata": {},
   "outputs": [
    {
     "name": "stdout",
     "output_type": "stream",
     "text": [
      "49.6\n"
     ]
    }
   ],
   "source": [
    "# Define integers\n",
    "a = 8\n",
    "# Define float\n",
    "b = 6.2\n",
    "# Add two numbers\n",
    "print(a * b)"
   ]
  },
  {
   "cell_type": "markdown",
   "metadata": {},
   "source": [
    "__Exercise__  \n",
    "Define a variable called `celsius` and give it a value of 45 to convert 45 degrees celsius to fahrenheit"
   ]
  },
  {
   "cell_type": "code",
   "execution_count": null,
   "metadata": {},
   "outputs": [],
   "source": [
    "# Define a variable called celsius and set it to 45\n",
    "\n",
    "\n",
    "# Convertion from celsisus to fahrenheit\n",
    "fahrenheit = celsius * 1.8 + 32\n",
    "\n",
    "print(fahrenheit)"
   ]
  },
  {
   "cell_type": "markdown",
   "metadata": {},
   "source": [
    "__Strings__"
   ]
  },
  {
   "cell_type": "code",
   "execution_count": 68,
   "metadata": {},
   "outputs": [
    {
     "name": "stdout",
     "output_type": "stream",
     "text": [
      "This_is_a_string_Test\n",
      "['', '', 'This_is_a_string_Test', '', '']\n",
      "  This is a string Test  \n"
     ]
    }
   ],
   "source": [
    "# Define a string\n",
    "myStr = \"  This_is_a_string_Test  \"\n",
    "# Strip characters\n",
    "print(myStr.strip())  # removes whitespace in beginning and end\n",
    "\n",
    "# Split string\n",
    "print(myStr.split(' '))  # split string to list\n",
    "\n",
    "# Replace characters\n",
    "print(myStr.replace('_', ' ')) # Replace character in string"
   ]
  },
  {
   "cell_type": "markdown",
   "metadata": {},
   "source": [
    "__Lists__\n",
    "Lists are useful to store values in. They are defined by the `[]` and each item in the list is separated by a `,`. We can store all different types of data inside a list. Below we have created a list called genes, and in this we have added the name of some genes."
   ]
  },
  {
   "cell_type": "code",
   "execution_count": 14,
   "metadata": {},
   "outputs": [
    {
     "name": "stdout",
     "output_type": "stream",
     "text": [
      "['rpoB', 'rpoC', 'rpoD']\n",
      "rpoC\n",
      "Added rpoE to the end of list\n",
      "['rpoB', 'rpoC', 'rpoD', 'rpoE']\n",
      "['rpoB', 'rpoD', 'rpoE']\n"
     ]
    }
   ],
   "source": [
    "# Define a list\n",
    "genes = ['rpoB', 'rpoC', 'rpoD']\n",
    "\n",
    "# Print the entire list\n",
    "print(\"Print the list\")\n",
    "print(genes)\n",
    "\n",
    "# Print the second element in the list, notice that counting the item starts at 0.\n",
    "# That is, to access the first item we would have used genes[0]\n",
    "print(\"Print the second element of the list\")\n",
    "print(genes[1])\n",
    "\n",
    "# We can also add an element to the end of the list by using the .append() method\n",
    "genes.append('rpoE')\n",
    "print(\"Added rpoE to the end of list\")\n",
    "print(genes)\n",
    "# and remove elements with the .pop() method\n",
    "\n",
    "genes.pop(1)\n",
    "print(genes)"
   ]
  },
  {
   "cell_type": "markdown",
   "metadata": {},
   "source": [
    "__Exercise__  \n",
    "In the cell below, first write code to remove the first item from the list genes. Then add a gene called 'secE' to the end of the list."
   ]
  },
  {
   "cell_type": "code",
   "execution_count": null,
   "metadata": {},
   "outputs": [],
   "source": [
    "genes = ['rpoB', 'rpoC', 'rpoD']\n",
    "\n",
    "# Add code below to remove the first item from the list\n",
    "\n",
    "# Add code below to add a gene called secE to the end of the list\n",
    "\n",
    "\n",
    "print(genes)"
   ]
  },
  {
   "cell_type": "code",
   "execution_count": 67,
   "metadata": {},
   "outputs": [
    {
     "name": "stdout",
     "output_type": "stream",
     "text": [
      "This\n"
     ]
    }
   ],
   "source": [
    "print(myStr[0:4])"
   ]
  },
  {
   "cell_type": "markdown",
   "metadata": {},
   "source": [
    "__Dictionaries__"
   ]
  },
  {
   "cell_type": "code",
   "execution_count": 15,
   "metadata": {},
   "outputs": [
    {
     "name": "stdout",
     "output_type": "stream",
     "text": [
      "{'rpoD': 1456, 'rpoC': 1032, 'rpoB': 520}\n",
      "520\n"
     ]
    },
    {
     "ename": "NameError",
     "evalue": "name 'ages' is not defined",
     "output_type": "error",
     "traceback": [
      "\u001b[0;31m---------------------------------------------------------------------------\u001b[0m",
      "\u001b[0;31mNameError\u001b[0m                                 Traceback (most recent call last)",
      "\u001b[0;32m<ipython-input-15-a9839f69c176>\u001b[0m in \u001b[0;36m<module>\u001b[0;34m()\u001b[0m\n\u001b[1;32m      7\u001b[0m \u001b[0;34m\u001b[0m\u001b[0m\n\u001b[1;32m      8\u001b[0m \u001b[0;31m# Add element\u001b[0m\u001b[0;34m\u001b[0m\u001b[0;34m\u001b[0m\u001b[0m\n\u001b[0;32m----> 9\u001b[0;31m \u001b[0mages\u001b[0m\u001b[0;34m[\u001b[0m\u001b[0;34m'maja'\u001b[0m\u001b[0;34m]\u001b[0m \u001b[0;34m=\u001b[0m \u001b[0;36m25\u001b[0m\u001b[0;34m\u001b[0m\u001b[0m\n\u001b[0m\u001b[1;32m     10\u001b[0m \u001b[0mprint\u001b[0m\u001b[0;34m(\u001b[0m\u001b[0mages\u001b[0m\u001b[0;34m)\u001b[0m\u001b[0;34m\u001b[0m\u001b[0m\n\u001b[1;32m     11\u001b[0m \u001b[0;34m\u001b[0m\u001b[0m\n",
      "\u001b[0;31mNameError\u001b[0m: name 'ages' is not defined"
     ]
    }
   ],
   "source": [
    "# Define a dictionary\n",
    "genes_start_position = {'rpoB':520, 'rpoC': 1032, 'rpoD':1456}\n",
    "print(genes_start_position)\n",
    "\n",
    "# Access element\n",
    "print(genes_start_position['rpoB'])\n",
    "\n",
    "# Add element\n",
    "ages['maja'] = 25\n",
    "print(ages)\n",
    "\n",
    "# Remove element\n",
    "del(ages['maja'])\n",
    "print(ages)\n",
    "\n",
    "# Get keys"
   ]
  },
  {
   "cell_type": "markdown",
   "metadata": {},
   "source": [
    "__Exercise__  \n",
    "Add a new element to the genes_start_position below with the gene name secE and set the value to 1883"
   ]
  },
  {
   "cell_type": "code",
   "execution_count": null,
   "metadata": {},
   "outputs": [],
   "source": [
    "genes_start_position = {'rpoB':520, 'rpoC': 1032, 'rpoD':1456}\n",
    "\n",
    "# Add code below to add a gene to the dictionary with the key secE and set the value to 1883\n",
    "\n",
    "\n",
    "print(genes_start_position)"
   ]
  },
  {
   "cell_type": "markdown",
   "metadata": {},
   "source": [
    "__Booleans and If-elif-else__  \n",
    "Now when we have defined some of the most common data types inside python. Let's start to get some logic in to our programs. \n",
    "First we will have a look at `Boolean`-values and then we will take on conditional statements.\n"
   ]
  },
  {
   "cell_type": "code",
   "execution_count": 17,
   "metadata": {},
   "outputs": [
    {
     "name": "stdout",
     "output_type": "stream",
     "text": [
      "True\n",
      "False\n"
     ]
    },
    {
     "ename": "NameError",
     "evalue": "name 'clock' is not defined",
     "output_type": "error",
     "traceback": [
      "\u001b[0;31m---------------------------------------------------------------------------\u001b[0m",
      "\u001b[0;31mNameError\u001b[0m                                 Traceback (most recent call last)",
      "\u001b[0;32m<ipython-input-17-c1c02667c89d>\u001b[0m in \u001b[0;36m<module>\u001b[0;34m()\u001b[0m\n\u001b[1;32m      4\u001b[0m \u001b[0mprint\u001b[0m\u001b[0;34m(\u001b[0m\u001b[0mwarm\u001b[0m\u001b[0;34m)\u001b[0m\u001b[0;34m\u001b[0m\u001b[0m\n\u001b[1;32m      5\u001b[0m \u001b[0mprint\u001b[0m\u001b[0;34m(\u001b[0m\u001b[0mcold\u001b[0m\u001b[0;34m)\u001b[0m\u001b[0;34m\u001b[0m\u001b[0m\n\u001b[0;32m----> 6\u001b[0;31m \u001b[0;32mif\u001b[0m \u001b[0mclock\u001b[0m \u001b[0;34m<\u001b[0m \u001b[0;36m10\u001b[0m\u001b[0;34m:\u001b[0m\u001b[0;34m\u001b[0m\u001b[0m\n\u001b[0m\u001b[1;32m      7\u001b[0m     \u001b[0mprint\u001b[0m\u001b[0;34m(\u001b[0m\u001b[0;34m'Clock is not 10'\u001b[0m\u001b[0;34m)\u001b[0m\u001b[0;34m\u001b[0m\u001b[0m\n\u001b[1;32m      8\u001b[0m \u001b[0;32melif\u001b[0m \u001b[0mclock\u001b[0m \u001b[0;34m==\u001b[0m \u001b[0;36m10\u001b[0m\u001b[0;34m:\u001b[0m\u001b[0;34m\u001b[0m\u001b[0m\n",
      "\u001b[0;31mNameError\u001b[0m: name 'clock' is not defined"
     ]
    }
   ],
   "source": [
    "warm = True\n",
    "cold = False\n",
    "\n",
    "print(warm)\n",
    "print(cold)\n",
    "\n",
    "if clock < 10:\n",
    "    print('Clock is not 10')\n",
    "elif clock == 10:\n",
    "    print('clock is 10')\n",
    "else:\n",
    "    print('something else')"
   ]
  },
  {
   "cell_type": "markdown",
   "metadata": {},
   "source": [
    "__While-loops__"
   ]
  },
  {
   "cell_type": "code",
   "execution_count": 36,
   "metadata": {},
   "outputs": [
    {
     "name": "stdout",
     "output_type": "stream",
     "text": [
      "0\n",
      "1\n",
      "2\n",
      "3\n",
      "4\n",
      "5\n",
      "6\n",
      "7\n",
      "8\n",
      "9\n"
     ]
    }
   ],
   "source": [
    "# Define a while-loop\n",
    "i = 0\n",
    "while i < 10:\n",
    "    print(i)\n",
    "    i = i + 1"
   ]
  },
  {
   "cell_type": "markdown",
   "metadata": {},
   "source": [
    "__For-loops__"
   ]
  },
  {
   "cell_type": "code",
   "execution_count": 51,
   "metadata": {},
   "outputs": [
    {
     "name": "stdout",
     "output_type": "stream",
     "text": [
      "rpoB\n",
      "rpoC\n",
      "rpoD\n"
     ]
    }
   ],
   "source": [
    "# Define a for-loop using list\n",
    "for element in ['rpoB', 'rpoC', 'rpoD']:\n",
    "    print(element)"
   ]
  },
  {
   "cell_type": "code",
   "execution_count": 52,
   "metadata": {},
   "outputs": [
    {
     "name": "stdout",
     "output_type": "stream",
     "text": [
      "0\n",
      "1\n",
      "2\n",
      "3\n",
      "4\n",
      "5\n",
      "6\n",
      "7\n",
      "8\n",
      "9\n"
     ]
    }
   ],
   "source": [
    "# Define a for-loop using range\n",
    "# We could also use the function range\n",
    "# to set the number of times to run a loop\n",
    "for i in range(10):\n",
    "    print(i)"
   ]
  },
  {
   "cell_type": "markdown",
   "metadata": {},
   "source": [
    "__Functions__"
   ]
  },
  {
   "cell_type": "code",
   "execution_count": 55,
   "metadata": {},
   "outputs": [
    {
     "name": "stdout",
     "output_type": "stream",
     "text": [
      "64\n"
     ]
    }
   ],
   "source": [
    "# Define a function that returns the square of a number\n",
    "def square(a):\n",
    "    result = a*a\n",
    "    return result\n",
    "\n",
    "print(square(8))"
   ]
  },
  {
   "cell_type": "markdown",
   "metadata": {},
   "source": [
    "__Read and write__"
   ]
  },
  {
   "cell_type": "code",
   "execution_count": 57,
   "metadata": {},
   "outputs": [
    {
     "name": "stdout",
     "output_type": "stream",
     "text": [
      "#id\tgene\torganism\tlength\n",
      "\n",
      "1\trpoB\tE. coli\t1347\n",
      "\n",
      "2\tgroEL\tB. quintana\t547\n",
      "\n",
      "4\themE\tM. morganii\t355\n",
      "\n",
      "5\tthiH\tS. sonnei\t377\n",
      "\n",
      "6\trecA\tS. enterica\t353\n",
      "\n",
      "8\trpoB\tY. pestis\t332\n",
      "\n",
      "10\tcyaA\tC. aceticum\t131\n",
      "\n"
     ]
    }
   ],
   "source": [
    "# Read genes.txt\n",
    "f = open('genes.txt', 'r')\n",
    "for line in f.readlines():\n",
    "    print(line)\n",
    "f.close()"
   ]
  },
  {
   "cell_type": "code",
   "execution_count": 59,
   "metadata": {},
   "outputs": [],
   "source": [
    "# Write the results of squares to file\n",
    "f = open('square_results.txt', 'w')\n",
    "for i in range(10):\n",
    "    result = square(i)\n",
    "    f.write(str(result))\n",
    "f.close()"
   ]
  },
  {
   "cell_type": "markdown",
   "metadata": {},
   "source": [
    "__Import packages__"
   ]
  },
  {
   "cell_type": "code",
   "execution_count": 40,
   "metadata": {},
   "outputs": [],
   "source": [
    "# Import Biopython, re and sys\n",
    "from Bio import SeqIO\n",
    "import sys\n",
    "import re"
   ]
  },
  {
   "cell_type": "markdown",
   "metadata": {},
   "source": [
    "__Regular expressions__"
   ]
  },
  {
   "cell_type": "code",
   "execution_count": 64,
   "metadata": {},
   "outputs": [
    {
     "name": "stdout",
     "output_type": "stream",
     "text": [
      "rpoB\n",
      "<_sre.SRE_Match object; span=(2, 6), match='rpoB'>\n",
      "<_sre.SRE_Match object; span=(0, 19), match='1 rpoB E. coli 1342'>\n",
      "rpoB\n",
      "1342\n",
      "1 rpoB E. coli Unknown\n"
     ]
    }
   ],
   "source": [
    "line = \"1 rpoB E. coli 1342\"\n",
    "# Find rpoB using regex\n",
    "regex = 'rpoB'\n",
    "match = re.search(regex, line)\n",
    "print(match.group())\n",
    "# Find rpoB, rpoC, rpoD using regex\n",
    "regex = 'rpo[B|C|D]'\n",
    "match = re.search(regex, line)\n",
    "print(match)\n",
    "# Find line starting with 1 and ending with 342\n",
    "regex = '^1.*342$'\n",
    "match = re.search(regex, line)\n",
    "print(match)\n",
    "\n",
    "# Use regex to find groups\n",
    "regex = \"1 (rpoB) E. coli (1342)\"\n",
    "match = re.search(regex, line)\n",
    "gene_name = match.group(1)  # gene_name is \"rpoB\"\n",
    "gene_length = match.group(2)\n",
    "print(gene_name)\n",
    "print(gene_length)\n",
    "\n",
    "# Use regex to replace 1342 with unknown length\n",
    "newLine = re.sub('1342', 'Unknown', line)\n",
    "print(newLine)"
   ]
  },
  {
   "cell_type": "markdown",
   "metadata": {},
   "source": [
    "__Command line arguments__"
   ]
  },
  {
   "cell_type": "markdown",
   "metadata": {},
   "source": [
    "The code for this part is in the script called command_line_args.py"
   ]
  },
  {
   "cell_type": "code",
   "execution_count": 44,
   "metadata": {},
   "outputs": [
    {
     "name": "stdout",
     "output_type": "stream",
     "text": [
      "#!/usr/bin/env python3\n",
      "import sys\n",
      "\n",
      "print('All arguments')\n",
      "print(sys.argv)\n",
      "\n",
      "arg1 = sys.argv[1]\n",
      "arg2 = sys.argv[2]\n",
      "\n",
      "print('Argument 1: ' + arg1)\n",
      "print('Argument 2: ' + arg2)\n"
     ]
    }
   ],
   "source": [
    "%%bash\n",
    "less command_line_args.py"
   ]
  },
  {
   "cell_type": "code",
   "execution_count": 45,
   "metadata": {},
   "outputs": [
    {
     "name": "stdout",
     "output_type": "stream",
     "text": [
      "All arguments\n",
      "['command_line_args.py', 'path_to_file.txt', 'output.txt']\n",
      "Argument 1: path_to_file.txt\n",
      "Argument 2: output.txt\n"
     ]
    }
   ],
   "source": [
    "%%bash\n",
    "python3 command_line_args.py path_to_file.txt output.txt"
   ]
  },
  {
   "cell_type": "markdown",
   "metadata": {},
   "source": [
    "__Debugging__"
   ]
  },
  {
   "cell_type": "code",
   "execution_count": 46,
   "metadata": {},
   "outputs": [
    {
     "ename": "NameError",
     "evalue": "name 'opne' is not defined",
     "output_type": "error",
     "traceback": [
      "\u001b[0;31m---------------------------------------------------------------------------\u001b[0m",
      "\u001b[0;31mNameError\u001b[0m                                 Traceback (most recent call last)",
      "\u001b[0;32m<ipython-input-46-96b3e47e5627>\u001b[0m in \u001b[0;36m<module>\u001b[0;34m()\u001b[0m\n\u001b[1;32m      1\u001b[0m \u001b[0;31m# Syntax errors\u001b[0m\u001b[0;34m\u001b[0m\u001b[0;34m\u001b[0m\u001b[0m\n\u001b[0;32m----> 2\u001b[0;31m \u001b[0mgeneNames\u001b[0m \u001b[0;34m=\u001b[0m \u001b[0mopne\u001b[0m\u001b[0;34m(\u001b[0m\u001b[0;34m'genes.txt'\u001b[0m\u001b[0;34m,\u001b[0m \u001b[0;34m'r'\u001b[0m\u001b[0;34m)\u001b[0m\u001b[0;34m\u001b[0m\u001b[0m\n\u001b[0m",
      "\u001b[0;31mNameError\u001b[0m: name 'opne' is not defined"
     ]
    }
   ],
   "source": [
    "# Syntax errors\n",
    "geneNames = opne('genes.txt', 'r')"
   ]
  },
  {
   "cell_type": "code",
   "execution_count": 47,
   "metadata": {},
   "outputs": [
    {
     "ename": "FileNotFoundError",
     "evalue": "[Errno 2] No such file or directory: 'gene_names.txt'",
     "output_type": "error",
     "traceback": [
      "\u001b[0;31m---------------------------------------------------------------------------\u001b[0m",
      "\u001b[0;31mFileNotFoundError\u001b[0m                         Traceback (most recent call last)",
      "\u001b[0;32m<ipython-input-47-9a32864da743>\u001b[0m in \u001b[0;36m<module>\u001b[0;34m()\u001b[0m\n\u001b[1;32m      1\u001b[0m \u001b[0;31m# Runtime errors\u001b[0m\u001b[0;34m\u001b[0m\u001b[0;34m\u001b[0m\u001b[0m\n\u001b[0;32m----> 2\u001b[0;31m \u001b[0mgeneNames\u001b[0m \u001b[0;34m=\u001b[0m \u001b[0mopen\u001b[0m\u001b[0;34m(\u001b[0m\u001b[0;34m'gene_names.txt'\u001b[0m\u001b[0;34m,\u001b[0m \u001b[0;34m'r'\u001b[0m\u001b[0;34m)\u001b[0m\u001b[0;34m\u001b[0m\u001b[0m\n\u001b[0m\u001b[1;32m      3\u001b[0m \u001b[0;32mfor\u001b[0m \u001b[0mline\u001b[0m \u001b[0;32min\u001b[0m \u001b[0mgeneNames\u001b[0m\u001b[0;34m.\u001b[0m\u001b[0mreadlines\u001b[0m\u001b[0;34m(\u001b[0m\u001b[0;34m)\u001b[0m\u001b[0;34m:\u001b[0m\u001b[0;34m\u001b[0m\u001b[0m\n\u001b[1;32m      4\u001b[0m     \u001b[0mprint\u001b[0m\u001b[0;34m(\u001b[0m\u001b[0mline\u001b[0m\u001b[0;34m)\u001b[0m\u001b[0;34m\u001b[0m\u001b[0m\n",
      "\u001b[0;31mFileNotFoundError\u001b[0m: [Errno 2] No such file or directory: 'gene_names.txt'"
     ]
    }
   ],
   "source": [
    "# Runtime errors\n",
    "geneNames = open('gene_names.txt', 'r')\n",
    "for line in geneNames.readlines():\n",
    "    print(line)"
   ]
  },
  {
   "cell_type": "code",
   "execution_count": 48,
   "metadata": {},
   "outputs": [
    {
     "name": "stdout",
     "output_type": "stream",
     "text": [
      "Number 1:2\n",
      "Number 2:3\n",
      "Average: 3.5\n"
     ]
    }
   ],
   "source": [
    "# Logical errors\n",
    "x = float(input(\"Number 1:\"))\n",
    "y = float(input(\"Number 2:\"))\n",
    "\n",
    "z = x + y / 2\n",
    "print(\"Average: \" + str(z))"
   ]
  },
  {
   "cell_type": "code",
   "execution_count": 49,
   "metadata": {},
   "outputs": [
    {
     "ename": "TypeError",
     "evalue": "unsupported operand type(s) for /: 'int' and 'str'",
     "output_type": "error",
     "traceback": [
      "\u001b[0;31m---------------------------------------------------------------------------\u001b[0m",
      "\u001b[0;31mTypeError\u001b[0m                                 Traceback (most recent call last)",
      "\u001b[0;32m<ipython-input-49-a48298cda5ff>\u001b[0m in \u001b[0;36m<module>\u001b[0;34m()\u001b[0m\n\u001b[1;32m     13\u001b[0m \u001b[0;34m\u001b[0m\u001b[0m\n\u001b[1;32m     14\u001b[0m \u001b[0mpairs\u001b[0m \u001b[0;34m=\u001b[0m \u001b[0;34m[\u001b[0m\u001b[0;34m(\u001b[0m\u001b[0;36m5\u001b[0m\u001b[0;34m,\u001b[0m\u001b[0;36m1\u001b[0m\u001b[0;34m)\u001b[0m\u001b[0;34m,\u001b[0m \u001b[0;34m(\u001b[0m\u001b[0;36m6\u001b[0m\u001b[0;34m,\u001b[0m\u001b[0;36m2\u001b[0m\u001b[0;34m)\u001b[0m\u001b[0;34m,\u001b[0m \u001b[0;34m(\u001b[0m\u001b[0;36m3\u001b[0m\u001b[0;34m,\u001b[0m\u001b[0;34m'a'\u001b[0m\u001b[0;34m)\u001b[0m\u001b[0;34m]\u001b[0m\u001b[0;34m\u001b[0m\u001b[0m\n\u001b[0;32m---> 15\u001b[0;31m \u001b[0mlist_division\u001b[0m\u001b[0;34m(\u001b[0m\u001b[0mpairs\u001b[0m\u001b[0;34m)\u001b[0m\u001b[0;34m\u001b[0m\u001b[0m\n\u001b[0m",
      "\u001b[0;32m<ipython-input-49-a48298cda5ff>\u001b[0m in \u001b[0;36mlist_division\u001b[0;34m(pairs)\u001b[0m\n\u001b[1;32m      7\u001b[0m     \u001b[0mpairs_result\u001b[0m \u001b[0;34m=\u001b[0m \u001b[0;34m[\u001b[0m\u001b[0;34m]\u001b[0m  \u001b[0;31m# store division results\u001b[0m\u001b[0;34m\u001b[0m\u001b[0m\n\u001b[1;32m      8\u001b[0m     \u001b[0;32mfor\u001b[0m \u001b[0mpair\u001b[0m \u001b[0;32min\u001b[0m \u001b[0mpairs\u001b[0m\u001b[0;34m:\u001b[0m\u001b[0;34m\u001b[0m\u001b[0m\n\u001b[0;32m----> 9\u001b[0;31m         \u001b[0mresult\u001b[0m \u001b[0;34m=\u001b[0m \u001b[0mdivision\u001b[0m\u001b[0;34m(\u001b[0m\u001b[0mpair\u001b[0m\u001b[0;34m[\u001b[0m\u001b[0;36m0\u001b[0m\u001b[0;34m]\u001b[0m\u001b[0;34m,\u001b[0m \u001b[0mpair\u001b[0m\u001b[0;34m[\u001b[0m\u001b[0;36m1\u001b[0m\u001b[0;34m]\u001b[0m\u001b[0;34m)\u001b[0m\u001b[0;34m\u001b[0m\u001b[0m\n\u001b[0m\u001b[1;32m     10\u001b[0m         \u001b[0mpairs_result\u001b[0m\u001b[0;34m.\u001b[0m\u001b[0mappend\u001b[0m\u001b[0;34m(\u001b[0m\u001b[0mresult\u001b[0m\u001b[0;34m)\u001b[0m\u001b[0;34m\u001b[0m\u001b[0m\n\u001b[1;32m     11\u001b[0m \u001b[0;34m\u001b[0m\u001b[0m\n",
      "\u001b[0;32m<ipython-input-49-a48298cda5ff>\u001b[0m in \u001b[0;36mdivision\u001b[0;34m(a, b)\u001b[0m\n\u001b[1;32m      1\u001b[0m \u001b[0;31m# Stack trace\u001b[0m\u001b[0;34m\u001b[0m\u001b[0;34m\u001b[0m\u001b[0m\n\u001b[1;32m      2\u001b[0m \u001b[0;32mdef\u001b[0m \u001b[0mdivision\u001b[0m\u001b[0;34m(\u001b[0m\u001b[0ma\u001b[0m\u001b[0;34m,\u001b[0m \u001b[0mb\u001b[0m\u001b[0;34m)\u001b[0m\u001b[0;34m:\u001b[0m\u001b[0;34m\u001b[0m\u001b[0m\n\u001b[0;32m----> 3\u001b[0;31m     \u001b[0mresult\u001b[0m \u001b[0;34m=\u001b[0m \u001b[0ma\u001b[0m\u001b[0;34m/\u001b[0m\u001b[0mb\u001b[0m\u001b[0;34m\u001b[0m\u001b[0m\n\u001b[0m\u001b[1;32m      4\u001b[0m     \u001b[0;32mreturn\u001b[0m \u001b[0mresult\u001b[0m\u001b[0;34m\u001b[0m\u001b[0m\n\u001b[1;32m      5\u001b[0m \u001b[0;34m\u001b[0m\u001b[0m\n",
      "\u001b[0;31mTypeError\u001b[0m: unsupported operand type(s) for /: 'int' and 'str'"
     ]
    }
   ],
   "source": [
    "# Stack trace\n",
    "def division(a, b):\n",
    "    result = a/b\n",
    "    return result\n",
    "\n",
    "def list_division(pairs):\n",
    "    pairs_result = []  # store division results\n",
    "    for pair in pairs:\n",
    "        result = division(pair[0], pair[1])\n",
    "        pairs_result.append(result)\n",
    "    \n",
    "    return pairs_result\n",
    "        \n",
    "pairs = [(5,1), (6,2), (3,'a')]\n",
    "list_division(pairs)"
   ]
  },
  {
   "cell_type": "code",
   "execution_count": null,
   "metadata": {},
   "outputs": [],
   "source": []
  }
 ],
 "metadata": {
  "kernelspec": {
   "display_name": "Python 3",
   "language": "python",
   "name": "python3"
  },
  "language_info": {
   "codemirror_mode": {
    "name": "ipython",
    "version": 3
   },
   "file_extension": ".py",
   "mimetype": "text/x-python",
   "name": "python",
   "nbconvert_exporter": "python",
   "pygments_lexer": "ipython3",
   "version": "3.5.5"
  }
 },
 "nbformat": 4,
 "nbformat_minor": 2
}
