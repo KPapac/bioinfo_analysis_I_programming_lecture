{
 "cells": [
  {
   "cell_type": "markdown",
   "metadata": {},
   "source": [
    "# If, elif, and else"
   ]
  },
  {
   "cell_type": "code",
   "execution_count": 14,
   "metadata": {},
   "outputs": [
    {
     "name": "stdout",
     "output_type": "stream",
     "text": [
      "True\n",
      "False\n",
      "True\n",
      "False\n",
      "True\n"
     ]
    }
   ],
   "source": [
    "a = True\n",
    "b = False\n",
    "# Logical operators in python\n",
    "print(a)\n",
    "print(not a)\n",
    "print(a and a)\n",
    "print(a and b)\n",
    "print(a or b)"
   ]
  },
  {
   "cell_type": "code",
   "execution_count": 12,
   "metadata": {},
   "outputs": [
    {
     "name": "stdout",
     "output_type": "stream",
     "text": [
      "False\n",
      "True\n",
      "False\n",
      "False\n",
      "True\n",
      "True\n"
     ]
    }
   ],
   "source": [
    "a = 10\n",
    "b = 11\n",
    "# Equality operators\n",
    "print(a == b)  # Check if two variables are equal\n",
    "print(a != b)  # Check if two variables are not equal\n",
    "\n",
    "# Comparison operators\n",
    "print(a > b)   # Check if a is greater than b\n",
    "print(a >= b)  # Check if a is greater than or equal to b\n",
    "print(a < b)  # Check if a is smaller than b\n",
    "print(a <= b)  # Check if a is smaller than or equal to b\n"
   ]
  },
  {
   "cell_type": "code",
   "execution_count": 15,
   "metadata": {},
   "outputs": [
    {
     "ename": "IndentationError",
     "evalue": "expected an indented block (<ipython-input-15-9514275ad2ee>, line 6)",
     "output_type": "error",
     "traceback": [
      "\u001b[0;36m  File \u001b[0;32m\"<ipython-input-15-9514275ad2ee>\"\u001b[0;36m, line \u001b[0;32m6\u001b[0m\n\u001b[0;31m    size = \"Large\"\u001b[0m\n\u001b[0m       ^\u001b[0m\n\u001b[0;31mIndentationError\u001b[0m\u001b[0;31m:\u001b[0m expected an indented block\n"
     ]
    }
   ],
   "source": [
    "# What is the output of this code? Can you change the value of the length variable so that the output changes?\n",
    "# Notice that the code under the if and else statements have an indentation so the computer know what code\n",
    "# should be executed when we enter each statement. What whould happen if you would remove the identation?\n",
    "length = 197\n",
    "\n",
    "if length > 195:\n",
    "    size = \"Large\"\n",
    "else:\n",
    "    size = \"Medium\"\n",
    "\n",
    "print(size)"
   ]
  },
  {
   "cell_type": "code",
   "execution_count": 16,
   "metadata": {},
   "outputs": [
    {
     "name": "stdout",
     "output_type": "stream",
     "text": [
      "Small\n"
     ]
    }
   ],
   "source": [
    "# What is the output of this code? Can you change the value of the length variable so that the code output Medium\n",
    "# What happens if you put an indentation on the print statement?\n",
    "length = 169\n",
    "if length >= 190:\n",
    "    size = \"Large\"\n",
    "elif length >= 175:\n",
    "    size = \"Medium\"\n",
    "else:\n",
    "    size = \"Small\"\n",
    "print(size)"
   ]
  },
  {
   "cell_type": "code",
   "execution_count": null,
   "metadata": {},
   "outputs": [],
   "source": [
    "# Write a program that prints the absolute value of x.\n",
    "# Remember the tab-indentation for the code below the if and else-statement\n",
    "x = -10"
   ]
  },
  {
   "cell_type": "code",
   "execution_count": 18,
   "metadata": {},
   "outputs": [
    {
     "name": "stdout",
     "output_type": "stream",
     "text": [
      "True\n",
      "False\n"
     ]
    }
   ],
   "source": [
    "# Another useful operator in python is the containment operator in. With this we can check if an element\n",
    "# is inside a list.\n",
    "week = ['monday', 'tuesday', 'wednesday', 'thursday', 'friday']\n",
    "print('monday' in week)\n",
    "\n",
    "# We can also use not in to check if an element is missing from a list.\n",
    "print('sunday' in week)"
   ]
  },
  {
   "cell_type": "code",
   "execution_count": null,
   "metadata": {},
   "outputs": [],
   "source": []
  }
 ],
 "metadata": {
  "kernelspec": {
   "display_name": "Python 3",
   "language": "python",
   "name": "python3"
  },
  "language_info": {
   "codemirror_mode": {
    "name": "ipython",
    "version": 3
   },
   "file_extension": ".py",
   "mimetype": "text/x-python",
   "name": "python",
   "nbconvert_exporter": "python",
   "pygments_lexer": "ipython3",
   "version": "3.5.5"
  }
 },
 "nbformat": 4,
 "nbformat_minor": 2
}
