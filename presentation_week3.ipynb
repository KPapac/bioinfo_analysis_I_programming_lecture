{
 "cells": [
  {
   "cell_type": "markdown",
   "metadata": {},
   "source": [
    "# Numbers"
   ]
  },
  {
   "cell_type": "markdown",
   "metadata": {},
   "source": [
    "### Types of numerical objects\n",
    "<li> Integers: 1234\n",
    "<li> Float point numbers: 1.23, 1., 3.14e-10, 4E210, 4.0e+210\n",
    "<li> Octal, hex, and binary literals: 0o177, 0x9ff, 0b101010\n",
    "<li> Complex number literals: 3+4j, 3.0+4.0j, 3J"
   ]
  },
  {
   "cell_type": "markdown",
   "metadata": {},
   "source": [
    "### Expressions \n",
    "\n",
    "Numbers/Objects and expression operators make **Expressions**.\n",
    "\n",
    "Some expression operators on numerals:\n",
    " +, -, *, /, >>, **, &, |"
   ]
  },
  {
   "cell_type": "markdown",
   "metadata": {},
   "source": [
    "We can perform mathematical operations:"
   ]
  },
  {
   "cell_type": "code",
   "execution_count": null,
   "metadata": {},
   "outputs": [],
   "source": [
    "print(123 + 222)\n",
    "print(19 - 20)\n",
    "print(1.5 * 4)\n",
    "print(1 / 3)"
   ]
  },
  {
   "cell_type": "markdown",
   "metadata": {},
   "source": [
    "We can assign a name to an expression using the assignment operator \"=\"."
   ]
  },
  {
   "cell_type": "code",
   "execution_count": null,
   "metadata": {},
   "outputs": [],
   "source": [
    "long_number = 2 ** 100\n",
    "print(long_number)"
   ]
  },
  {
   "cell_type": "markdown",
   "metadata": {},
   "source": [
    "# Strings"
   ]
  },
  {
   "cell_type": "code",
   "execution_count": null,
   "metadata": {},
   "outputs": [],
   "source": [
    "print(long_number)"
   ]
  },
  {
   "cell_type": "markdown",
   "metadata": {},
   "source": [
    "len() is a function that return the length of:\n",
    "<li> sequences (string, bytes, tuple, list, or range) and \n",
    "<li> collections (dictionary, set, or frozen set)."
   ]
  },
  {
   "cell_type": "code",
   "execution_count": null,
   "metadata": {},
   "outputs": [],
   "source": [
    "len(long_number) # Fails as \"long_number\" is an integer."
   ]
  },
  {
   "cell_type": "markdown",
   "metadata": {},
   "source": [
    "But if we convert the number into a string, then we can find the length of the string."
   ]
  },
  {
   "cell_type": "code",
   "execution_count": null,
   "metadata": {},
   "outputs": [],
   "source": [
    "long_number_as_string = str(long_number)\n",
    "len(long_number_as_string)"
   ]
  },
  {
   "cell_type": "markdown",
   "metadata": {},
   "source": [
    "Strings, like lists and tuples, are sequences, i.e. positionally ordered objects.\n",
    "Strings are usefull as we can store text and bytes (e.g. from an image file)."
   ]
  },
  {
   "cell_type": "code",
   "execution_count": null,
   "metadata": {},
   "outputs": [],
   "source": [
    "S = 'Spam'   # Make a 4-character string, and assign it to a name.\n",
    "len(S)   # Printing the length of S."
   ]
  },
  {
   "cell_type": "markdown",
   "metadata": {},
   "source": [
    "Strings, like all objects with some order in python, begin from index 0."
   ]
  },
  {
   "cell_type": "code",
   "execution_count": null,
   "metadata": {},
   "outputs": [],
   "source": [
    "S[0]   # Printing the first letter of S."
   ]
  },
  {
   "cell_type": "code",
   "execution_count": null,
   "metadata": {},
   "outputs": [],
   "source": [
    "S[1]   # Printing the second letter of S."
   ]
  },
  {
   "cell_type": "code",
   "execution_count": null,
   "metadata": {},
   "outputs": [],
   "source": [
    "S[-1]   # Printing the last letter of S."
   ]
  },
  {
   "cell_type": "code",
   "execution_count": null,
   "metadata": {},
   "outputs": [],
   "source": [
    "S[-2]   # Printing the letter before the last of S."
   ]
  },
  {
   "cell_type": "code",
   "execution_count": null,
   "metadata": {},
   "outputs": [],
   "source": [
    "S[1:3]   # Slicing of S from index 1 until and not including 3."
   ]
  },
  {
   "cell_type": "code",
   "execution_count": null,
   "metadata": {},
   "outputs": [],
   "source": [
    "S[1:]  # Everything past the first (1:len(S))"
   ]
  },
  {
   "cell_type": "code",
   "execution_count": null,
   "metadata": {},
   "outputs": [],
   "source": [
    "S[0:3]   # Everything but the last "
   ]
  },
  {
   "cell_type": "code",
   "execution_count": null,
   "metadata": {},
   "outputs": [],
   "source": [
    "S[:3]   # Same as S[0:3]"
   ]
  },
  {
   "cell_type": "code",
   "execution_count": null,
   "metadata": {},
   "outputs": [],
   "source": [
    "S[:-1]   # Everything but the last."
   ]
  },
  {
   "cell_type": "code",
   "execution_count": null,
   "metadata": {},
   "outputs": [],
   "source": [
    "T = S + 'xyz'  # We can concatenate strings and assign them to a new name.\n",
    "T"
   ]
  },
  {
   "cell_type": "code",
   "execution_count": null,
   "metadata": {},
   "outputs": [],
   "source": [
    "S   # The old string is unchanged. "
   ]
  },
  {
   "cell_type": "code",
   "execution_count": null,
   "metadata": {},
   "outputs": [],
   "source": [
    "S[0]=\"z\"   # This will print an error \n"
   ]
  },
  {
   "cell_type": "code",
   "execution_count": null,
   "metadata": {},
   "outputs": [],
   "source": [
    "S * 8   # We can repeat the string, here for 8 times."
   ]
  },
  {
   "cell_type": "code",
   "execution_count": null,
   "metadata": {},
   "outputs": [],
   "source": [
    "# Formated strings, as of Python 3.6\n",
    "f_string = f'The name S had the value: {S}'\n",
    "f_string"
   ]
  },
  {
   "cell_type": "markdown",
   "metadata": {},
   "source": [
    "# Lists and Dictionaries\n"
   ]
  },
  {
   "cell_type": "code",
   "execution_count": null,
   "metadata": {},
   "outputs": [],
   "source": [
    "L = [123, 'spam', 1.23]   # A list of three different-type objects\n",
    "len(L)   # Number of items in the list"
   ]
  },
  {
   "cell_type": "code",
   "execution_count": null,
   "metadata": {},
   "outputs": [],
   "source": [
    "L[:-1]   # Slicing a list returns a new list"
   ]
  },
  {
   "cell_type": "code",
   "execution_count": null,
   "metadata": {},
   "outputs": [],
   "source": [
    "L + [4, 5, 6]   # Concat/repeat make new lists too"
   ]
  },
  {
   "cell_type": "code",
   "execution_count": null,
   "metadata": {},
   "outputs": [],
   "source": [
    "L * 3"
   ]
  },
  {
   "cell_type": "code",
   "execution_count": null,
   "metadata": {},
   "outputs": [],
   "source": [
    "# Lists are mutable!!!\n",
    "L.append('NI')   # Adding object at end of list.\n",
    "L"
   ]
  },
  {
   "cell_type": "code",
   "execution_count": null,
   "metadata": {},
   "outputs": [],
   "source": [
    "L.pop(2)   # Delete the item L[2] from the list. We can also assign it if we want.\n",
    "L"
   ]
  },
  {
   "cell_type": "code",
   "execution_count": null,
   "metadata": {},
   "outputs": [],
   "source": [
    "M = [[1, 2, 3], [4, 5, 6], [7, 8, 9]]   # We can also nest lists. M is a 3X3 matrix now.\n",
    "M[1]"
   ]
  },
  {
   "cell_type": "code",
   "execution_count": null,
   "metadata": {},
   "outputs": [],
   "source": [
    "M[1][2]"
   ]
  },
  {
   "cell_type": "markdown",
   "metadata": {},
   "source": [
    "# Dictionaries\n",
    "Key:Value pairings"
   ]
  },
  {
   "cell_type": "code",
   "execution_count": null,
   "metadata": {},
   "outputs": [],
   "source": [
    "D = {'food': 'Spam', 'quantity': 4, 'color': 'pink'}\n",
    "D['food'] # Accessing a value based on a key."
   ]
  },
  {
   "cell_type": "code",
   "execution_count": null,
   "metadata": {},
   "outputs": [],
   "source": [
    "D['quantity'] += 1 # Add 1 to the 'quantity' value. Remember they are mutable.\n",
    "D"
   ]
  },
  {
   "cell_type": "code",
   "execution_count": null,
   "metadata": {},
   "outputs": [],
   "source": [
    "# Another way to make a dictionary:\n",
    "D = {}\n",
    "D['name'] = 'Bob'\n",
    "D['job'] = 'dev'\n",
    "D['age'] = 40\n",
    "D"
   ]
  },
  {
   "cell_type": "code",
   "execution_count": null,
   "metadata": {},
   "outputs": [],
   "source": [
    "# More nesting:\n",
    "rec = {\n",
    "    'name': {'first': 'Bob', 'last': 'Smith'}, \n",
    "    'jobs': ['dev', 'mgr'], \n",
    "    'age': 40.5\n",
    "}\n",
    "rec['name']['last']"
   ]
  },
  {
   "cell_type": "code",
   "execution_count": null,
   "metadata": {},
   "outputs": [],
   "source": [
    "# How to make a file with python:\n",
    "f = open('data.txt', 'w') # Makes a new file in the current working directory.\n",
    "f.write('Hello\\n')\n",
    "f.write('world') \n",
    "f.close() # Need to close the file to write to disk."
   ]
  },
  {
   "cell_type": "code",
   "execution_count": null,
   "metadata": {},
   "outputs": [],
   "source": [
    "# I highly recommend reading/writing to files like this:\n",
    "with open('data.txt', 'w') as f:\n",
    "    f.write('Hello\\n')\n",
    "    f.write('world\\n')"
   ]
  },
  {
   "cell_type": "markdown",
   "metadata": {},
   "source": [
    "Let's open a fasta file."
   ]
  },
  {
   "cell_type": "code",
   "execution_count": null,
   "metadata": {},
   "outputs": [],
   "source": [
    "# To read a file:\n",
    "with open('BQ_toulouse_part.fna', 'r') as f: fasta = f.read()\n",
    "fasta"
   ]
  },
  {
   "cell_type": "markdown",
   "metadata": {},
   "source": []
  },
  {
   "cell_type": "code",
   "execution_count": null,
   "metadata": {},
   "outputs": [],
   "source": [
    "print(fasta)"
   ]
  },
  {
   "cell_type": "markdown",
   "metadata": {},
   "source": [
    "# Syntax"
   ]
  },
  {
   "cell_type": "markdown",
   "metadata": {},
   "source": [
    "Compound statements—statements that have other statements nested inside them—follow\n",
    "the same general pattern of a header line terminated in a colon, followed by a nested\n",
    "block of code usually indented underneath the header line. Indentation can be spaces/tabs."
   ]
  },
  {
   "cell_type": "code",
   "execution_count": null,
   "metadata": {},
   "outputs": [],
   "source": [
    "Header line:\n",
    "    Nested statement block\n",
    "    Block continues here\n",
    "\n",
    "Here is a new header line:\n",
    "    And more stuff\n",
    "    And even more..."
   ]
  },
  {
   "cell_type": "markdown",
   "metadata": {},
   "source": [
    "# Conditionals"
   ]
  },
  {
   "cell_type": "code",
   "execution_count": 27,
   "metadata": {},
   "outputs": [
    {
     "name": "stdout",
     "output_type": "stream",
     "text": [
      "x was True\n",
      "y was False\n"
     ]
    }
   ],
   "source": [
    "x = 1\n",
    "y = 0\n",
    "\n",
    "if x: \n",
    "    print(\"x was True\")\n",
    "if not y:\n",
    "    print(\"y was False\")\n"
   ]
  },
  {
   "cell_type": "code",
   "execution_count": 28,
   "metadata": {},
   "outputs": [
    {
     "name": "stdout",
     "output_type": "stream",
     "text": [
      "Some of x, y was False. So, 'x and y' was 0\n",
      "Some of x, y was True. So, 'x or y' was 1\n"
     ]
    }
   ],
   "source": [
    "x = True\n",
    "y = False\n",
    "\n",
    "if x: \n",
    "    print(\"x was True\")\n",
    "if not y:\n",
    "    print(\"y was False\")\n",
    "\n",
    "if not (x and y): \n",
    "    print(f\"Some of x, y was False. So, 'x and y' was {x and y}\")\n",
    "if x or y: \n",
    "    print(f\"Some of x, y was True. So, 'x or y' was {x or y}\")"
   ]
  },
  {
   "cell_type": "code",
   "execution_count": 33,
   "metadata": {},
   "outputs": [
    {
     "name": "stdout",
     "output_type": "stream",
     "text": [
      "It is lunch time!\n",
      "Make the table!\n"
     ]
    }
   ],
   "source": [
    "# I am eating 3 meals within the day, at 7am, 1pm, 8pm. Is it time to eat? \n",
    "current_time = \"13:00\"\n",
    "\n",
    "if current_time == \"07:00\":\n",
    "    print(\"It is breakfast time!\")\n",
    "elif current_time == \"13:00\":\n",
    "    print(\"It is lunch time!\")\n",
    "elif current_time == \"20:00\":\n",
    "    print(\"It is dinner time!\")\n",
    "else:\n",
    "    print(\"Not time to eat right now.\")"
   ]
  },
  {
   "cell_type": "code",
   "execution_count": null,
   "metadata": {},
   "outputs": [],
   "source": [
    "# Assigning values based on a condition:\n",
    "Nucleotides = set(\"AGCGCATGCTTA\")\n",
    "if len(Nucleotides) != 4:\n",
    "    msg = 'Something is wrong...'\n",
    "else:   \n",
    "    if 'U' in Nucleotides:\n",
    "        msg = 'It is RNA'\n",
    "    else:\n",
    "        msg = 'It is DNA.'\n",
    "print(Nucleotides)\n",
    "print(msg)"
   ]
  },
  {
   "cell_type": "markdown",
   "metadata": {},
   "source": [
    "##### The if/else Ternary Expression"
   ]
  },
  {
   "cell_type": "code",
   "execution_count": null,
   "metadata": {},
   "outputs": [],
   "source": [
    "# Another way to write the same as above:\n",
    "Nucleotides = set(\"AGCGCATGCTTA\")\n",
    "if len(Nucleotides) != 4:\n",
    "    msg = 'Something is wrong...'\n",
    "else:   \n",
    "    msg = 'It is RNA' if 'U' in Nucleotides else 'It is DNA'\n",
    "print(Nucleotides)\n",
    "print(msg)"
   ]
  },
  {
   "cell_type": "markdown",
   "metadata": {},
   "source": [
    "# Iteration"
   ]
  },
  {
   "cell_type": "code",
   "execution_count": null,
   "metadata": {},
   "outputs": [],
   "source": [
    "# Syntax for the while loop\n",
    "while test:\n",
    "    statements"
   ]
  },
  {
   "cell_type": "code",
   "execution_count": null,
   "metadata": {},
   "outputs": [],
   "source": [
    "# This is run forever, unless I press ctrl + c.\n",
    "while True: \n",
    "    print('Type Ctrl-C to stop me!')"
   ]
  },
  {
   "cell_type": "markdown",
   "metadata": {},
   "source": [
    "The while loop will run until the **test** becomes false. In the following example, the test is a string 'spam'. Once the test becomes an empty string '', the loop stops."
   ]
  },
  {
   "cell_type": "code",
   "execution_count": null,
   "metadata": {},
   "outputs": [],
   "source": [
    "x = 'spam'\n",
    "while x:\n",
    "    print(x) # We are printing the test here.\n",
    "    x = x[1:] # Strip first character off x"
   ]
  },
  {
   "cell_type": "code",
   "execution_count": null,
   "metadata": {},
   "outputs": [],
   "source": [
    "# Syntax for the for loop\n",
    "for target in object:\n",
    "    statements"
   ]
  },
  {
   "cell_type": "code",
   "execution_count": null,
   "metadata": {},
   "outputs": [],
   "source": [
    "# We can loop through the elements of a list.\n",
    "for x in [\"spam\", \"eggs\", \"ham\"]:\n",
    "    print(x, end=' ')"
   ]
  },
  {
   "cell_type": "code",
   "execution_count": null,
   "metadata": {},
   "outputs": [],
   "source": [
    "# Or loop through a dictionary.\n",
    "D = {'a': 1, 'b': 2, 'c': 3}\n",
    "for key in D:\n",
    "    print(key, '=>', D[key])\n",
    "\n",
    "# Or like this\n",
    "for (key, value) in D.items():\n",
    "    print(key, '=>', value)"
   ]
  },
  {
   "cell_type": "code",
   "execution_count": null,
   "metadata": {},
   "outputs": [],
   "source": [
    "# And we can nest!\n",
    "M = [[1, 2, 3], [4, 5, 6], [7, 8, 9]]\n",
    "for row in M:\n",
    "    for item in row:\n",
    "        print(item, end = \" \")"
   ]
  },
  {
   "cell_type": "markdown",
   "metadata": {},
   "source": [
    "# Comprehensions"
   ]
  },
  {
   "cell_type": "code",
   "execution_count": null,
   "metadata": {},
   "outputs": [],
   "source": [
    "col2 = [row[1] for row in M] # Gets 2nd column of M.\n",
    "col2 "
   ]
  },
  {
   "cell_type": "code",
   "execution_count": null,
   "metadata": {},
   "outputs": [],
   "source": [
    "col2 = [row[1] for row in M if row[1] % 2 == 0] # Get the even numbers\n",
    "col2"
   ]
  },
  {
   "cell_type": "code",
   "execution_count": null,
   "metadata": {},
   "outputs": [],
   "source": [
    "diag = [M[i][i] for i in [0, 1, 2]]\n",
    "diag"
   ]
  },
  {
   "cell_type": "code",
   "execution_count": null,
   "metadata": {},
   "outputs": [],
   "source": [
    "doubles = [letter * 2 for letter in 'spam']\n",
    "doubles"
   ]
  },
  {
   "cell_type": "code",
   "execution_count": null,
   "metadata": {},
   "outputs": [],
   "source": [
    "[[x / 2, x, x * 2] for x in range(-6, 7, 2) if x > 0] # Oooof..."
   ]
  },
  {
   "cell_type": "code",
   "execution_count": null,
   "metadata": {},
   "outputs": [],
   "source": [
    "# Other type of comprehensions\n",
    "lc = [x for x in 'spaam'] # Is a list\n",
    "sc = {x for x in 'spaam'} # Is a set\n",
    "dc = {x : ord(x) for x in 'spaam'} # Is a dictionary\n",
    "\n",
    "print(lc)\n",
    "print(sc)\n",
    "print(dc)"
   ]
  }
 ],
 "metadata": {
  "kernelspec": {
   "display_name": "Python 3 (ipykernel)",
   "language": "python",
   "name": "python3"
  },
  "language_info": {
   "codemirror_mode": {
    "name": "ipython",
    "version": 3
   },
   "file_extension": ".py",
   "mimetype": "text/x-python",
   "name": "python",
   "nbconvert_exporter": "python",
   "pygments_lexer": "ipython3",
   "version": "3.9.7"
  },
  "vscode": {
   "interpreter": {
    "hash": "31f2aee4e71d21fbe5cf8b01ff0e069b9275f58929596ceb00d14d90e3e16cd6"
   }
  }
 },
 "nbformat": 4,
 "nbformat_minor": 2
}
