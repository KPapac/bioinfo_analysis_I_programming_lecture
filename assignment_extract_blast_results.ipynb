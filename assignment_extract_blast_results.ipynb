{
 "cells": [
  {
   "cell_type": "markdown",
   "metadata": {},
   "source": [
    "# Assignment 3.1 - Extract blast results"
   ]
  },
  {
   "cell_type": "markdown",
   "metadata": {},
   "source": [
    "Imagine the senario that you have run BLAST for every gene in a genome (BH) against all genes in another genome (BQ) and summarized the results in a file blastResult_BQ.txt. The file contains three columns: QueryName HitName E-value.\n",
    "\n",
    "We can have a look at the file using the head program from bash. Notice the `%%bash` in the top of the next cell, this allows us to run bash program in the notebook."
   ]
  },
  {
   "cell_type": "code",
   "execution_count": 34,
   "metadata": {},
   "outputs": [
    {
     "name": "stdout",
     "output_type": "stream",
     "text": [
      "BH00010\tBQ00010\t2e-123\n",
      "BH00020\tBQ00020\t3e-87\n",
      "BH00030\tBQ00030\t9e-141\n",
      "BH00040\tBQ00040\t5e-86\n",
      "BH00050\tBQ00050\t3e-119\n",
      "BH00060\tBQ00060\t0.0\n",
      "BH00070\tBQ00070\t3e-138\n",
      "BH00080\tBQ00080\t8e-120\n",
      "BH00090\tBQ02000\t3e-09\n",
      "BH00100\tBQ00090\t2e-64\n"
     ]
    }
   ],
   "source": [
    "%%bash\n",
    "head blastResult_BQ.txt"
   ]
  },
  {
   "cell_type": "markdown",
   "metadata": {},
   "source": [
    "__Hint:__ To solve later tasks you will have to convert strings to floats, this can be done with the `float()` function. See example below."
   ]
  },
  {
   "cell_type": "code",
   "execution_count": 33,
   "metadata": {},
   "outputs": [],
   "source": [
    "evalue_string = \"1.5\"\n",
    "evalue_float = float(evalue_string)"
   ]
  },
  {
   "cell_type": "markdown",
   "metadata": {},
   "source": [
    "The cell below open the file with the blast results and for each line in the file it creates a list called hits that contains `[queryName, hitName]` and store this list in a list called `blast_results_bq`.  \n",
    "\n",
    "__Task 1:__ Edit the code so that the last column with e-values of each line is also included in the list named hit. Convert the e-values to floats before you store them in the list. See the example above."
   ]
  },
  {
   "cell_type": "code",
   "execution_count": 38,
   "metadata": {},
   "outputs": [],
   "source": [
    "blast_results_bq = []\n",
    "with open('blastResult_BQ.txt', 'r') as f_in:\n",
    "    # Loop over each line in the file\n",
    "    for line in f_in: \n",
    "        line = line.strip('\\n')  # remove new-line characters from the end of each line\n",
    "        line_list = line.split()  # split the line on spaces to a list\n",
    "        queryName = line_list[0]\n",
    "        hitName = line_list[1]\n",
    "        hit = [queryName, hitName]\n",
    "        blast_results_bq.append(hit)"
   ]
  },
  {
   "cell_type": "markdown",
   "metadata": {},
   "source": [
    "We can now have a look at how the `blast_results_bq` list looks like"
   ]
  },
  {
   "cell_type": "code",
   "execution_count": null,
   "metadata": {},
   "outputs": [],
   "source": [
    "print(blast_results_bq[:3])"
   ]
  },
  {
   "cell_type": "markdown",
   "metadata": {},
   "source": [
    "__Task 2:__ Your next task is to find out how many hits we have in the `blast_results_bq` list."
   ]
  },
  {
   "cell_type": "code",
   "execution_count": 24,
   "metadata": {},
   "outputs": [],
   "source": [
    "# Write the code to find the number of hits below"
   ]
  },
  {
   "cell_type": "markdown",
   "metadata": {},
   "source": [
    "__Task 3:__ The next task is to create a list with the query names of the hits that have an e-value smaller than 1e-50. How many hits had an e-value smaller than 1e-50? Remember that the .append() function is used to add items to a list."
   ]
  },
  {
   "cell_type": "code",
   "execution_count": 36,
   "metadata": {},
   "outputs": [],
   "source": [
    "best_bq_hits = []  # Use this list to store query names with this with an e-value smaller than 1e-50\n",
    "\n",
    "# Write your code below this comment"
   ]
  }
 ],
 "metadata": {
  "kernelspec": {
   "display_name": "Python 3",
   "language": "python",
   "name": "python3"
  },
  "language_info": {
   "codemirror_mode": {
    "name": "ipython",
    "version": 3
   },
   "file_extension": ".py",
   "mimetype": "text/x-python",
   "name": "python",
   "nbconvert_exporter": "python",
   "pygments_lexer": "ipython3",
   "version": "3.5.5"
  }
 },
 "nbformat": 4,
 "nbformat_minor": 2
}
