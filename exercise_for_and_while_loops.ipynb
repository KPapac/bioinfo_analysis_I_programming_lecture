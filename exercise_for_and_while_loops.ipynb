{
 "cells": [
  {
   "cell_type": "markdown",
   "metadata": {},
   "source": [
    "# Repetitions: For and While loops"
   ]
  },
  {
   "cell_type": "code",
   "execution_count": null,
   "metadata": {},
   "outputs": [],
   "source": [
    "# This cell imports code from a library called numpy, it will be used further down to generate a random dna-sequence\n",
    "import numpy as np"
   ]
  },
  {
   "cell_type": "code",
   "execution_count": null,
   "metadata": {},
   "outputs": [],
   "source": [
    "# Write a for-loop to print each day.\n",
    "# Remember the tab indentation below the for statement.\n",
    "week = ['monday', 'tuesday', 'wednesday', 'thursday', 'friday', 'saturday', 'sunday']"
   ]
  },
  {
   "cell_type": "code",
   "execution_count": null,
   "metadata": {},
   "outputs": [],
   "source": [
    "# The expression sum = sum + i is very common in programming.\n",
    "# For this reason there is a short-hand notation for this, sum += i.\n",
    "# This cell sums the number 0 to 9\n",
    "sum_a = 0\n",
    "sum_b = 0\n",
    "\n",
    "for i in range(10):\n",
    "    sum_a = sum_a + i\n",
    "    sum_b += i\n",
    "    \n",
    "print(sum_a)\n",
    "print(sum_b)"
   ]
  },
  {
   "cell_type": "code",
   "execution_count": null,
   "metadata": {},
   "outputs": [],
   "source": [
    "# This code generates a random dna-sequece, it's up to you to determine the length.\n",
    "seq_length =  # Determine the length of dna sequence.\n",
    "nucleotides = ['a', 'c', 'g', 't']\n",
    "dna_sequence = np.random.choice(nucleotides, seq_length)  # sample the nucleotides with replacement\n",
    "dna_sequence = ''.join(dna_sequence)  # Convert a list of nucleotides to a string"
   ]
  },
  {
   "cell_type": "code",
   "execution_count": null,
   "metadata": {},
   "outputs": [],
   "source": [
    "# Write a for-loop and count the occurence of adenine (a) in the dna sequence.\n",
    "count_a = 0  # Use the count_a variable to store the number of a"
   ]
  },
  {
   "cell_type": "code",
   "execution_count": null,
   "metadata": {},
   "outputs": [],
   "source": [
    "# Write a while loop to add all natural numbers up to n. sum = 1 + 2 + 3 + ... + n\n",
    "                \n",
    "n = 256\n",
    "i = 1\n",
    "sum_n = 0\n",
    "\n",
    "\n",
    "print(sum_n)"
   ]
  }
 ],
 "metadata": {
  "kernelspec": {
   "display_name": "Python 3",
   "language": "python",
   "name": "python3"
  },
  "language_info": {
   "codemirror_mode": {
    "name": "ipython",
    "version": 3
   },
   "file_extension": ".py",
   "mimetype": "text/x-python",
   "name": "python",
   "nbconvert_exporter": "python",
   "pygments_lexer": "ipython3",
   "version": "3.5.5"
  }
 },
 "nbformat": 4,
 "nbformat_minor": 2
}
