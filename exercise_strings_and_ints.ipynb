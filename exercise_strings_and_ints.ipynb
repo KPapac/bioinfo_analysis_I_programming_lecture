{
 "cells": [
  {
   "cell_type": "markdown",
   "metadata": {},
   "source": [
    "# Variables and data types - Strings and Ints"
   ]
  },
  {
   "cell_type": "code",
   "execution_count": null,
   "metadata": {},
   "outputs": [],
   "source": [
    "# Press shift+enter to run your first program\n",
    "print(\"Hello World!\")"
   ]
  },
  {
   "cell_type": "code",
   "execution_count": null,
   "metadata": {},
   "outputs": [],
   "source": [
    "# This is a program that says Hi to you, however you will have to fill in the misssing value for the \n",
    "# name-variable remember the \"\" around strings\n",
    "name =   # add your name here\n",
    "print(\"Hi \" + name + \"!\")"
   ]
  },
  {
   "cell_type": "code",
   "execution_count": null,
   "metadata": {},
   "outputs": [],
   "source": [
    "# The following program adds two numbers\n",
    "a = 5\n",
    "b = 4\n",
    "print(a + b)"
   ]
  },
  {
   "cell_type": "code",
   "execution_count": null,
   "metadata": {},
   "outputs": [],
   "source": [
    "# Write a program that sums three numbers\n"
   ]
  },
  {
   "cell_type": "code",
   "execution_count": null,
   "metadata": {},
   "outputs": [],
   "source": [
    "# The + operator adds two numbers and the - operator is used for subtraction. But what is the difference\n",
    "# between the * operator and the ** operator. Try\n",
    "a = 4\n",
    "b = 3\n",
    "print()  # Use the * operator here\n",
    "print()  # Use the ** operator here"
   ]
  },
  {
   "cell_type": "code",
   "execution_count": null,
   "metadata": {},
   "outputs": [],
   "source": [
    "# The [] notation can be used to exctract substrings from a string.\n",
    "name = \"Emil\"\n",
    "print(name[0])\n",
    "print(name[1:3])\n",
    "print(name[-1])"
   ]
  },
  {
   "cell_type": "code",
   "execution_count": null,
   "metadata": {},
   "outputs": [],
   "source": [
    "# The len()-function can be used to get the number of characters in a string\n",
    "alphabet = \"abcdefghijklmnopqrstuvwxyz\"\n",
    "print(len(alphabet))"
   ]
  },
  {
   "cell_type": "code",
   "execution_count": null,
   "metadata": {},
   "outputs": [],
   "source": [
    "# How many nucleotides does the following dna-sequence contain? Extract the first eight nucleotides from the sequence.\n",
    "dna_sequence = \"actgggttcagttgacagttattacatgccagtggaggcagatgagcatgagc\"\n"
   ]
  },
  {
   "cell_type": "code",
   "execution_count": null,
   "metadata": {},
   "outputs": [],
   "source": [
    "# What happens when you try to add the two following variables? Why?\n",
    "s = 9\n",
    "words = \"heeya\"\n",
    "print()  # Add the two variables inside the print function"
   ]
  }
 ],
 "metadata": {
  "kernelspec": {
   "display_name": "Python 3",
   "language": "python",
   "name": "python3"
  },
  "language_info": {
   "codemirror_mode": {
    "name": "ipython",
    "version": 3
   },
   "file_extension": ".py",
   "mimetype": "text/x-python",
   "name": "python",
   "nbconvert_exporter": "python",
   "pygments_lexer": "ipython3",
   "version": "3.5.5"
  }
 },
 "nbformat": 4,
 "nbformat_minor": 2
}
