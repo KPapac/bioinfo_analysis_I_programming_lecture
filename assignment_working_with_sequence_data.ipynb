{
 "cells": [
  {
   "cell_type": "markdown",
   "metadata": {},
   "source": [
    "# Assignment 3.2 - Working with sequence data\n",
    "In this assignment you will work with fasta-files and explore some biological data we can extract from them. For this assignment we will use the Biopython-library, which is commonly used when working with biological data. Here is a link to the [Biopython manual](https://biopython.org)."
   ]
  },
  {
   "cell_type": "code",
   "execution_count": null,
   "metadata": {},
   "outputs": [],
   "source": [
    "from Bio import SeqIO"
   ]
  },
  {
   "cell_type": "markdown",
   "metadata": {},
   "source": [
    "First, let's have a look at a fasta file. The fasta format is probably one of the most common format in bioinformatics and is used to represent sequence data. The first line of the file starts with `>`, this indicates a new sequence record. This is also called the fasta-header, from the `>` to the first space in the header is the accession-id and after the first space we have the description. The format of the header and the description can be different depending on from where the fasta-file was obtained.  \n",
    "\n",
    "After the line with the `>` we have lines containing the sequence of the record. The sequence could be on just one line or for readability split to several lines. The sequence can either represent DNA-sequence or sequences of proteins.  \n",
    "\n",
    "Following the sequence we have a new line that starts with `>` and is the header of the second sequence in the fasta file.\n",
    "\n",
    "The output below is a fasta file of protein sequences from a bacterium called _Ca_ Pelagibacter ubique."
   ]
  },
  {
   "cell_type": "code",
   "execution_count": null,
   "metadata": {},
   "outputs": [],
   "source": [
    "%%bash\n",
    "head Ca_Pelagibacter_ubique_proteins.faa"
   ]
  },
  {
   "cell_type": "markdown",
   "metadata": {},
   "source": [
    "The code below illustrate how we can use the SeqIO-module to parse fasta files and work with the data. Here we generate a list called `records`. In this case each item in the list is a protein from _Ca._ Pelagibacter ubique.  \n",
    "But as we will see later in this assignment, the items can also be DNA-sequences, either entire chromosomes or genomic features such as genes or exons.  \n",
    "\n",
    "Each record has an id-variable which is the identifier of the record, it also has a description-variable which represent the entire fasta-header, and finally, it has a seq-variable which contains the sequence of the record. You can see in the example below how we can access these different variables from the first protein in the `records`-list."
   ]
  },
  {
   "cell_type": "code",
   "execution_count": null,
   "metadata": {},
   "outputs": [],
   "source": [
    "records = list(SeqIO.parse(\"Ca_Pelagibacter_ubique_proteins.faa\", \"fasta\"))\n",
    "print(records[0].id)\n",
    "print(records[0].description)\n",
    "print(records[0].seq)"
   ]
  },
  {
   "cell_type": "markdown",
   "metadata": {},
   "source": [
    "__Task 1:__ Your first task is to use the records list to find how many proteins there are in _Ca._ Pelagibacter ubique."
   ]
  },
  {
   "cell_type": "code",
   "execution_count": null,
   "metadata": {},
   "outputs": [],
   "source": [
    "# Write the code to find the number of proteins below"
   ]
  },
  {
   "cell_type": "markdown",
   "metadata": {},
   "source": [
    "__Task 2:__ Your next task will be to find the longest protein in _Ca._ Pelagibacter ubique. We can use the `len()` function on the seq-variable to find the length of a protein sequence. You will need one variable to store the length of the longest sequence and another to store the id of the longest sequence."
   ]
  },
  {
   "cell_type": "code",
   "execution_count": null,
   "metadata": {},
   "outputs": [],
   "source": [
    "# Write the code to find the longest protein below."
   ]
  },
  {
   "cell_type": "markdown",
   "metadata": {},
   "source": [
    "Now we will load a new fasta-file. This time we load the DNA-sequence of the _Ca._ Pelagibacter ubique genome into a list called `genome_records`."
   ]
  },
  {
   "cell_type": "code",
   "execution_count": null,
   "metadata": {},
   "outputs": [],
   "source": [
    "genome_records = list(SeqIO.parse('Ca_Pelagibacter_ubique.fna', 'fasta'))"
   ]
  },
  {
   "cell_type": "markdown",
   "metadata": {},
   "source": [
    "We can have a look at the 100 first nucleoteides of the genome"
   ]
  },
  {
   "cell_type": "code",
   "execution_count": null,
   "metadata": {},
   "outputs": [],
   "source": [
    "print(genome_records[0].seq[:100])"
   ]
  },
  {
   "cell_type": "markdown",
   "metadata": {},
   "source": [
    "__Task 3:__ Your final assignment will be to calculate the GC-content of _Ca._ Pelagibacter ubique genome. The GC-content is defined as the precentage of the sequence that are either a Cytosine (C) or Guanine (G). As you will see later in the course, this measure is important when we will search for genes in a genome. As always, there are several ways to solve this problem. You can use a for loop to loop over each nucleotide in the sequence or you can have a look at the [count()](https://www.w3schools.com/python/ref_string_count.asp) method that can be used with strings in python."
   ]
  },
  {
   "cell_type": "code",
   "execution_count": null,
   "metadata": {},
   "outputs": [],
   "source": [
    "# Write the code to calculate the GC-content below"
   ]
  }
 ],
 "metadata": {
  "kernelspec": {
   "display_name": "Python 3",
   "language": "python",
   "name": "python3"
  },
  "language_info": {
   "codemirror_mode": {
    "name": "ipython",
    "version": 3
   },
   "file_extension": ".py",
   "mimetype": "text/x-python",
   "name": "python",
   "nbconvert_exporter": "python",
   "pygments_lexer": "ipython3",
   "version": "3.5.5"
  }
 },
 "nbformat": 4,
 "nbformat_minor": 2
}
