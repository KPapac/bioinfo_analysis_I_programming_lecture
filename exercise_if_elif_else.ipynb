{
 "cells": [
  {
   "cell_type": "markdown",
   "metadata": {},
   "source": [
    "# Exercise - If, elif, and else"
   ]
  },
  {
   "cell_type": "markdown",
   "metadata": {},
   "source": [
    "Below are examples of boolean variables, True and False, and how they can be combined with logical operators to add logic to the code."
   ]
  },
  {
   "cell_type": "code",
   "execution_count": null,
   "metadata": {},
   "outputs": [],
   "source": [
    "a = True\n",
    "b = False\n",
    "# Logical operators in python\n",
    "print(\"a evaluates to\", a)\n",
    "print(\"not a evaluates to\", not a)\n",
    "print(\"a and a evaluates to\", a and a)\n",
    "print(\"a and b evaluates to\", a and b)\n",
    "print(\"a or b evaluates to\", a or b)"
   ]
  },
  {
   "cell_type": "markdown",
   "metadata": {},
   "source": [
    "We also have equality and comparison operators so we can compare objects to each other to add logic to the code"
   ]
  },
  {
   "cell_type": "code",
   "execution_count": null,
   "metadata": {},
   "outputs": [],
   "source": [
    "a = 10\n",
    "b = 11\n",
    "# Equality operators\n",
    "print(\"a == b\", a == b)  # Check if two variables are equal\n",
    "print(\"a != b\", a != b)  # Check if two variables are not equal\n",
    "\n",
    "# Comparison operators\n",
    "print(\"a > b\", a > b)   # Check if a is greater than b\n",
    "print(\"a >= b\", a >= b)  # Check if a is greater than or equal to b\n",
    "print(\"a < b\", a < b)  # Check if a is smaller than b\n",
    "print(\"a <= b\", a <= b)  # Check if a is smaller than or equal to b\n"
   ]
  },
  {
   "cell_type": "markdown",
   "metadata": {},
   "source": [
    "What is the output of the code below? Can you change the value of the length variable so that the output changes?\n",
    "Notice that the code under the if and else statements have an indentation so the computer know what code\n",
    "should be executed when we enter each statement. What whould happen if you would remove the identation?"
   ]
  },
  {
   "cell_type": "code",
   "execution_count": null,
   "metadata": {},
   "outputs": [],
   "source": [
    "length = 197\n",
    "\n",
    "if length > 195:\n",
    "    size = \"Large\"\n",
    "else:\n",
    "    size = \"Medium\"\n",
    "\n",
    "print(size)"
   ]
  },
  {
   "cell_type": "markdown",
   "metadata": {},
   "source": [
    "What is the output of this code? Can you change the value of the length variable so that the code output Medium.\n",
    "What happens if you put an indentation on the print statement in the last line of the code? What happens if you change the type of the length variable to a string by enclosing the number next to length with `\"\"`?"
   ]
  },
  {
   "cell_type": "code",
   "execution_count": null,
   "metadata": {},
   "outputs": [],
   "source": [
    "length = 169\n",
    "if length >= 190:\n",
    "    size = \"Large\"\n",
    "elif length >= 175:\n",
    "    size = \"Medium\"\n",
    "else:\n",
    "    size = \"Small\"\n",
    "print(size)"
   ]
  },
  {
   "cell_type": "markdown",
   "metadata": {},
   "source": [
    "Write a program that prints the absolute value of x. That is, if x is equal to or larger than zero it should print the same value, otherwise it should print the non-negative value of x. Remember the tab-indentation for the code below the if and else-statement. Test change x to different values to make sure the code works."
   ]
  },
  {
   "cell_type": "code",
   "execution_count": null,
   "metadata": {},
   "outputs": [],
   "source": [
    "x = -10\n",
    "# Write your code here"
   ]
  },
  {
   "cell_type": "markdown",
   "metadata": {},
   "source": [
    "Another useful operator in python is the containment operator `in`. With this we can check if an element\n",
    "is inside a list."
   ]
  },
  {
   "cell_type": "code",
   "execution_count": null,
   "metadata": {},
   "outputs": [],
   "source": [
    "operon = ['rpoB', 'rpoC', 'rpoD', 'rpoE', 'rpoF', 'rpoG']\n",
    "print('rpoB' in operon)"
   ]
  },
  {
   "cell_type": "markdown",
   "metadata": {},
   "source": [
    "Use the `in` operator together with `if` and `else` to check if rpoD is in the operon list. If rpoD is inside the list the code should print \"rpoD is in the operon\" else it should print \"rpoD is missing\""
   ]
  },
  {
   "cell_type": "code",
   "execution_count": null,
   "metadata": {},
   "outputs": [],
   "source": [
    "# Write your code here"
   ]
  }
 ],
 "metadata": {
  "kernelspec": {
   "display_name": "Python 3",
   "language": "python",
   "name": "python3"
  },
  "language_info": {
   "codemirror_mode": {
    "name": "ipython",
    "version": 3
   },
   "file_extension": ".py",
   "mimetype": "text/x-python",
   "name": "python",
   "nbconvert_exporter": "python",
   "pygments_lexer": "ipython3",
   "version": "3.5.5"
  }
 },
 "nbformat": 4,
 "nbformat_minor": 2
}
